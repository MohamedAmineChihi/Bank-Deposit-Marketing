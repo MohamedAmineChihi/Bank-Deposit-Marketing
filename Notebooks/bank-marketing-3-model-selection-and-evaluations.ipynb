{
 "cells": [
  {
   "cell_type": "markdown",
   "id": "AiahUHvir-CM",
   "metadata": {
    "id": "AiahUHvir-CM"
   },
   "source": [
    " <center><h1> - Bank-marketing : Model selection & evaluation - </h1></center>"
   ]
  },
  {
   "cell_type": "markdown",
   "id": "-gTYIsmmr-CP",
   "metadata": {
    "id": "-gTYIsmmr-CP"
   },
   "source": [
    "# 1-Predicting the outcome of the campaign\n",
    "\n"
   ]
  },
  {
   "cell_type": "code",
   "execution_count": 48,
   "id": "RBLokPRir-CQ",
   "metadata": {
    "id": "RBLokPRir-CQ"
   },
   "outputs": [],
   "source": [
    "from sklearn.model_selection import GridSearchCV\n",
    "from sklearn.metrics import classification_report, confusion_matrix\n",
    "from sklearn.model_selection import train_test_split"
   ]
  },
  {
   "cell_type": "code",
   "execution_count": 49,
   "id": "kj3p-ENdr-CT",
   "metadata": {
    "id": "kj3p-ENdr-CT"
   },
   "outputs": [],
   "source": [
    "import numpy as np\n",
    "import matplotlib.pyplot as plt\n",
    "import seaborn as sns\n",
    "import pandas as pd\n",
    "from pathlib import Path"
   ]
  },
  {
   "cell_type": "code",
   "execution_count": 50,
   "id": "u6X-ijHDr-CT",
   "metadata": {
    "id": "u6X-ijHDr-CT"
   },
   "outputs": [],
   "source": [
    "from sklearn.neighbors import KNeighborsClassifier\n",
    "from sklearn.tree import DecisionTreeClassifier\n",
    "from sklearn.ensemble import RandomForestClassifier\n",
    "from xgboost import XGBClassifier\n",
    "from sklearn.svm import SVC"
   ]
  },
  {
   "cell_type": "code",
   "execution_count": 51,
   "id": "XNfaYZrvr-CU",
   "metadata": {
    "colab": {
     "base_uri": "https://localhost:8080/",
     "height": 661
    },
    "id": "XNfaYZrvr-CU",
    "outputId": "7d83b75b-f209-42e2-c707-8bf0cfe479f3"
   },
   "outputs": [],
   "source": [
    "VERBOSE = True\n",
    "DATA_PATH = Path(\"../data\")\n",
    "PROCESSED_DATA_PATH = DATA_PATH / \"processed\" / \"data_processed.csv\"\n",
    "PROCESSED_DATA_PATH1 = DATA_PATH / \"processed\" / \"socio_eco_processed.csv\""
   ]
  },
  {
   "cell_type": "code",
   "execution_count": 52,
   "id": "4ed7df5b",
   "metadata": {},
   "outputs": [
    {
     "data": {
      "text/html": [
       "<div>\n",
       "<style scoped>\n",
       "    .dataframe tbody tr th:only-of-type {\n",
       "        vertical-align: middle;\n",
       "    }\n",
       "\n",
       "    .dataframe tbody tr th {\n",
       "        vertical-align: top;\n",
       "    }\n",
       "\n",
       "    .dataframe thead th {\n",
       "        text-align: right;\n",
       "    }\n",
       "</style>\n",
       "<table border=\"1\" class=\"dataframe\">\n",
       "  <thead>\n",
       "    <tr style=\"text-align: right;\">\n",
       "      <th></th>\n",
       "      <th>date</th>\n",
       "      <th>age</th>\n",
       "      <th>job</th>\n",
       "      <th>relation</th>\n",
       "      <th>education</th>\n",
       "      <th>defaut</th>\n",
       "      <th>balance</th>\n",
       "      <th>pret_immo</th>\n",
       "      <th>pret_perso</th>\n",
       "      <th>contact</th>\n",
       "      <th>duree_contact</th>\n",
       "      <th>nb_contact</th>\n",
       "      <th>nb_j_dernier_contact</th>\n",
       "      <th>nb_contact_derniere_campagne</th>\n",
       "      <th>resultat_derniere_campagne</th>\n",
       "      <th>statut</th>\n",
       "    </tr>\n",
       "  </thead>\n",
       "  <tbody>\n",
       "    <tr>\n",
       "      <th>0</th>\n",
       "      <td>2008-05-05</td>\n",
       "      <td>58</td>\n",
       "      <td>Manager</td>\n",
       "      <td>Marié</td>\n",
       "      <td>Tertiaire</td>\n",
       "      <td>No</td>\n",
       "      <td>2143</td>\n",
       "      <td>Yes</td>\n",
       "      <td>No</td>\n",
       "      <td>Autres</td>\n",
       "      <td>261</td>\n",
       "      <td>1</td>\n",
       "      <td>-1</td>\n",
       "      <td>0</td>\n",
       "      <td>not contacted</td>\n",
       "      <td>Refus</td>\n",
       "    </tr>\n",
       "    <tr>\n",
       "      <th>1</th>\n",
       "      <td>2008-05-05</td>\n",
       "      <td>123</td>\n",
       "      <td>Technicien</td>\n",
       "      <td>not available</td>\n",
       "      <td>Secondaire</td>\n",
       "      <td>No</td>\n",
       "      <td>29</td>\n",
       "      <td>Yes</td>\n",
       "      <td>not available</td>\n",
       "      <td>Autres</td>\n",
       "      <td>151</td>\n",
       "      <td>1</td>\n",
       "      <td>-1</td>\n",
       "      <td>0</td>\n",
       "      <td>not contacted</td>\n",
       "      <td>Refus</td>\n",
       "    </tr>\n",
       "    <tr>\n",
       "      <th>2</th>\n",
       "      <td>2008-05-05</td>\n",
       "      <td>33</td>\n",
       "      <td>Entrepreuneur</td>\n",
       "      <td>Marié</td>\n",
       "      <td>Secondaire</td>\n",
       "      <td>No</td>\n",
       "      <td>2</td>\n",
       "      <td>Yes</td>\n",
       "      <td>Yes</td>\n",
       "      <td>Autres</td>\n",
       "      <td>0</td>\n",
       "      <td>1</td>\n",
       "      <td>-1</td>\n",
       "      <td>0</td>\n",
       "      <td>not contacted</td>\n",
       "      <td>Absent</td>\n",
       "    </tr>\n",
       "    <tr>\n",
       "      <th>3</th>\n",
       "      <td>2008-05-05</td>\n",
       "      <td>47</td>\n",
       "      <td>Col bleu</td>\n",
       "      <td>Marié</td>\n",
       "      <td>not available</td>\n",
       "      <td>No</td>\n",
       "      <td>1506</td>\n",
       "      <td>Yes</td>\n",
       "      <td>No</td>\n",
       "      <td>Autres</td>\n",
       "      <td>0</td>\n",
       "      <td>1</td>\n",
       "      <td>-1</td>\n",
       "      <td>0</td>\n",
       "      <td>not contacted</td>\n",
       "      <td>Absent</td>\n",
       "    </tr>\n",
       "    <tr>\n",
       "      <th>4</th>\n",
       "      <td>2008-05-05</td>\n",
       "      <td>33</td>\n",
       "      <td>Autres</td>\n",
       "      <td>Célibataire</td>\n",
       "      <td>not available</td>\n",
       "      <td>No</td>\n",
       "      <td>1</td>\n",
       "      <td>No</td>\n",
       "      <td>No</td>\n",
       "      <td>Autres</td>\n",
       "      <td>198</td>\n",
       "      <td>1</td>\n",
       "      <td>-1</td>\n",
       "      <td>0</td>\n",
       "      <td>not contacted</td>\n",
       "      <td>Refus</td>\n",
       "    </tr>\n",
       "    <tr>\n",
       "      <th>...</th>\n",
       "      <td>...</td>\n",
       "      <td>...</td>\n",
       "      <td>...</td>\n",
       "      <td>...</td>\n",
       "      <td>...</td>\n",
       "      <td>...</td>\n",
       "      <td>...</td>\n",
       "      <td>...</td>\n",
       "      <td>...</td>\n",
       "      <td>...</td>\n",
       "      <td>...</td>\n",
       "      <td>...</td>\n",
       "      <td>...</td>\n",
       "      <td>...</td>\n",
       "      <td>...</td>\n",
       "      <td>...</td>\n",
       "    </tr>\n",
       "    <tr>\n",
       "      <th>45131</th>\n",
       "      <td>2010-10-27</td>\n",
       "      <td>47</td>\n",
       "      <td>Manager</td>\n",
       "      <td>Marié</td>\n",
       "      <td>Tertiaire</td>\n",
       "      <td>No</td>\n",
       "      <td>0</td>\n",
       "      <td>No</td>\n",
       "      <td>No</td>\n",
       "      <td>Portable</td>\n",
       "      <td>508</td>\n",
       "      <td>1</td>\n",
       "      <td>-1</td>\n",
       "      <td>0</td>\n",
       "      <td>not contacted</td>\n",
       "      <td>Souscrit</td>\n",
       "    </tr>\n",
       "    <tr>\n",
       "      <th>45132</th>\n",
       "      <td>2010-10-27</td>\n",
       "      <td>61</td>\n",
       "      <td>Retraité</td>\n",
       "      <td>Marié</td>\n",
       "      <td>Secondaire</td>\n",
       "      <td>No</td>\n",
       "      <td>1058</td>\n",
       "      <td>No</td>\n",
       "      <td>No</td>\n",
       "      <td>Portable</td>\n",
       "      <td>277</td>\n",
       "      <td>1</td>\n",
       "      <td>92</td>\n",
       "      <td>5</td>\n",
       "      <td>Succes</td>\n",
       "      <td>Refus</td>\n",
       "    </tr>\n",
       "    <tr>\n",
       "      <th>45133</th>\n",
       "      <td>2010-10-27</td>\n",
       "      <td>24</td>\n",
       "      <td>Etudiant</td>\n",
       "      <td>Célibataire</td>\n",
       "      <td>Secondaire</td>\n",
       "      <td>No</td>\n",
       "      <td>822</td>\n",
       "      <td>No</td>\n",
       "      <td>No</td>\n",
       "      <td>Portable</td>\n",
       "      <td>184</td>\n",
       "      <td>1</td>\n",
       "      <td>91</td>\n",
       "      <td>2</td>\n",
       "      <td>Echec</td>\n",
       "      <td>Souscrit</td>\n",
       "    </tr>\n",
       "    <tr>\n",
       "      <th>45134</th>\n",
       "      <td>2010-10-27</td>\n",
       "      <td>70</td>\n",
       "      <td>Retraité</td>\n",
       "      <td>Marié</td>\n",
       "      <td>Secondaire</td>\n",
       "      <td>No</td>\n",
       "      <td>0</td>\n",
       "      <td>No</td>\n",
       "      <td>No</td>\n",
       "      <td>Portable</td>\n",
       "      <td>258</td>\n",
       "      <td>1</td>\n",
       "      <td>92</td>\n",
       "      <td>5</td>\n",
       "      <td>Succes</td>\n",
       "      <td>Souscrit</td>\n",
       "    </tr>\n",
       "    <tr>\n",
       "      <th>45135</th>\n",
       "      <td>2010-10-28</td>\n",
       "      <td>53</td>\n",
       "      <td>Col bleu</td>\n",
       "      <td>Marié</td>\n",
       "      <td>Primaire</td>\n",
       "      <td>No</td>\n",
       "      <td>1294</td>\n",
       "      <td>No</td>\n",
       "      <td>No</td>\n",
       "      <td>Autres</td>\n",
       "      <td>71</td>\n",
       "      <td>1</td>\n",
       "      <td>-1</td>\n",
       "      <td>0</td>\n",
       "      <td>not contacted</td>\n",
       "      <td>Refus</td>\n",
       "    </tr>\n",
       "  </tbody>\n",
       "</table>\n",
       "<p>45136 rows × 16 columns</p>\n",
       "</div>"
      ],
      "text/plain": [
       "             date  age            job       relation      education defaut  \\\n",
       "0      2008-05-05   58        Manager          Marié      Tertiaire     No   \n",
       "1      2008-05-05  123     Technicien  not available     Secondaire     No   \n",
       "2      2008-05-05   33  Entrepreuneur          Marié     Secondaire     No   \n",
       "3      2008-05-05   47       Col bleu          Marié  not available     No   \n",
       "4      2008-05-05   33         Autres    Célibataire  not available     No   \n",
       "...           ...  ...            ...            ...            ...    ...   \n",
       "45131  2010-10-27   47        Manager          Marié      Tertiaire     No   \n",
       "45132  2010-10-27   61       Retraité          Marié     Secondaire     No   \n",
       "45133  2010-10-27   24       Etudiant    Célibataire     Secondaire     No   \n",
       "45134  2010-10-27   70       Retraité          Marié     Secondaire     No   \n",
       "45135  2010-10-28   53       Col bleu          Marié       Primaire     No   \n",
       "\n",
       "       balance pret_immo     pret_perso   contact  duree_contact  nb_contact  \\\n",
       "0         2143       Yes             No    Autres            261           1   \n",
       "1           29       Yes  not available    Autres            151           1   \n",
       "2            2       Yes            Yes    Autres              0           1   \n",
       "3         1506       Yes             No    Autres              0           1   \n",
       "4            1        No             No    Autres            198           1   \n",
       "...        ...       ...            ...       ...            ...         ...   \n",
       "45131        0        No             No  Portable            508           1   \n",
       "45132     1058        No             No  Portable            277           1   \n",
       "45133      822        No             No  Portable            184           1   \n",
       "45134        0        No             No  Portable            258           1   \n",
       "45135     1294        No             No    Autres             71           1   \n",
       "\n",
       "       nb_j_dernier_contact  nb_contact_derniere_campagne  \\\n",
       "0                        -1                             0   \n",
       "1                        -1                             0   \n",
       "2                        -1                             0   \n",
       "3                        -1                             0   \n",
       "4                        -1                             0   \n",
       "...                     ...                           ...   \n",
       "45131                    -1                             0   \n",
       "45132                    92                             5   \n",
       "45133                    91                             2   \n",
       "45134                    92                             5   \n",
       "45135                    -1                             0   \n",
       "\n",
       "      resultat_derniere_campagne    statut  \n",
       "0                  not contacted     Refus  \n",
       "1                  not contacted     Refus  \n",
       "2                  not contacted    Absent  \n",
       "3                  not contacted    Absent  \n",
       "4                  not contacted     Refus  \n",
       "...                          ...       ...  \n",
       "45131              not contacted  Souscrit  \n",
       "45132                     Succes     Refus  \n",
       "45133                      Echec  Souscrit  \n",
       "45134                     Succes  Souscrit  \n",
       "45135              not contacted     Refus  \n",
       "\n",
       "[45136 rows x 16 columns]"
      ]
     },
     "metadata": {},
     "output_type": "display_data"
    }
   ],
   "source": [
    "data = pd.read_csv(PROCESSED_DATA_PATH)\n",
    "if VERBOSE:\n",
    "    display(data)"
   ]
  },
  {
   "cell_type": "code",
   "execution_count": 54,
   "id": "e5d36bae",
   "metadata": {},
   "outputs": [
    {
     "data": {
      "text/html": [
       "<div>\n",
       "<style scoped>\n",
       "    .dataframe tbody tr th:only-of-type {\n",
       "        vertical-align: middle;\n",
       "    }\n",
       "\n",
       "    .dataframe tbody tr th {\n",
       "        vertical-align: top;\n",
       "    }\n",
       "\n",
       "    .dataframe thead th {\n",
       "        text-align: right;\n",
       "    }\n",
       "</style>\n",
       "<table border=\"1\" class=\"dataframe\">\n",
       "  <thead>\n",
       "    <tr style=\"text-align: right;\">\n",
       "      <th></th>\n",
       "      <th>date</th>\n",
       "      <th>tx_var_emploi</th>\n",
       "      <th>idx_prix_conso</th>\n",
       "      <th>idx_conf_conso</th>\n",
       "    </tr>\n",
       "  </thead>\n",
       "  <tbody>\n",
       "    <tr>\n",
       "      <th>0</th>\n",
       "      <td>2008-05-31</td>\n",
       "      <td>1.1</td>\n",
       "      <td>93.994000</td>\n",
       "      <td>-36.400000</td>\n",
       "    </tr>\n",
       "    <tr>\n",
       "      <th>1</th>\n",
       "      <td>2008-06-30</td>\n",
       "      <td>1.4</td>\n",
       "      <td>94.465000</td>\n",
       "      <td>-41.800000</td>\n",
       "    </tr>\n",
       "    <tr>\n",
       "      <th>2</th>\n",
       "      <td>2008-07-31</td>\n",
       "      <td>1.4</td>\n",
       "      <td>93.918000</td>\n",
       "      <td>-42.700000</td>\n",
       "    </tr>\n",
       "    <tr>\n",
       "      <th>3</th>\n",
       "      <td>2008-08-31</td>\n",
       "      <td>1.4</td>\n",
       "      <td>93.444000</td>\n",
       "      <td>-36.100000</td>\n",
       "    </tr>\n",
       "    <tr>\n",
       "      <th>4</th>\n",
       "      <td>2008-09-30</td>\n",
       "      <td>-0.1</td>\n",
       "      <td>93.621000</td>\n",
       "      <td>-38.250000</td>\n",
       "    </tr>\n",
       "    <tr>\n",
       "      <th>5</th>\n",
       "      <td>2008-10-31</td>\n",
       "      <td>-0.1</td>\n",
       "      <td>93.798000</td>\n",
       "      <td>-40.400000</td>\n",
       "    </tr>\n",
       "    <tr>\n",
       "      <th>6</th>\n",
       "      <td>2008-11-30</td>\n",
       "      <td>-0.1</td>\n",
       "      <td>93.200000</td>\n",
       "      <td>-42.000000</td>\n",
       "    </tr>\n",
       "    <tr>\n",
       "      <th>7</th>\n",
       "      <td>2008-12-31</td>\n",
       "      <td>-0.2</td>\n",
       "      <td>92.756000</td>\n",
       "      <td>-45.900000</td>\n",
       "    </tr>\n",
       "    <tr>\n",
       "      <th>8</th>\n",
       "      <td>2009-01-31</td>\n",
       "      <td>-0.2</td>\n",
       "      <td>92.785000</td>\n",
       "      <td>-47.266667</td>\n",
       "    </tr>\n",
       "    <tr>\n",
       "      <th>9</th>\n",
       "      <td>2009-02-28</td>\n",
       "      <td>-0.2</td>\n",
       "      <td>92.814000</td>\n",
       "      <td>-48.633333</td>\n",
       "    </tr>\n",
       "    <tr>\n",
       "      <th>10</th>\n",
       "      <td>2009-03-31</td>\n",
       "      <td>-1.8</td>\n",
       "      <td>92.843000</td>\n",
       "      <td>-50.000000</td>\n",
       "    </tr>\n",
       "    <tr>\n",
       "      <th>11</th>\n",
       "      <td>2009-04-30</td>\n",
       "      <td>-1.8</td>\n",
       "      <td>93.075000</td>\n",
       "      <td>-47.100000</td>\n",
       "    </tr>\n",
       "    <tr>\n",
       "      <th>12</th>\n",
       "      <td>2009-05-31</td>\n",
       "      <td>-1.8</td>\n",
       "      <td>92.893000</td>\n",
       "      <td>-46.200000</td>\n",
       "    </tr>\n",
       "    <tr>\n",
       "      <th>13</th>\n",
       "      <td>2009-06-30</td>\n",
       "      <td>-2.9</td>\n",
       "      <td>92.963000</td>\n",
       "      <td>-40.800000</td>\n",
       "    </tr>\n",
       "    <tr>\n",
       "      <th>14</th>\n",
       "      <td>2009-07-31</td>\n",
       "      <td>-2.9</td>\n",
       "      <td>92.469000</td>\n",
       "      <td>-33.600000</td>\n",
       "    </tr>\n",
       "    <tr>\n",
       "      <th>15</th>\n",
       "      <td>2009-08-31</td>\n",
       "      <td>-2.9</td>\n",
       "      <td>92.201000</td>\n",
       "      <td>-31.400000</td>\n",
       "    </tr>\n",
       "    <tr>\n",
       "      <th>16</th>\n",
       "      <td>2009-09-30</td>\n",
       "      <td>-3.4</td>\n",
       "      <td>92.379000</td>\n",
       "      <td>-29.800000</td>\n",
       "    </tr>\n",
       "    <tr>\n",
       "      <th>17</th>\n",
       "      <td>2009-10-31</td>\n",
       "      <td>-3.4</td>\n",
       "      <td>92.431000</td>\n",
       "      <td>-26.900000</td>\n",
       "    </tr>\n",
       "    <tr>\n",
       "      <th>18</th>\n",
       "      <td>2009-11-30</td>\n",
       "      <td>-3.4</td>\n",
       "      <td>92.649000</td>\n",
       "      <td>-30.100000</td>\n",
       "    </tr>\n",
       "    <tr>\n",
       "      <th>19</th>\n",
       "      <td>2009-12-31</td>\n",
       "      <td>-3.0</td>\n",
       "      <td>92.713000</td>\n",
       "      <td>-33.000000</td>\n",
       "    </tr>\n",
       "    <tr>\n",
       "      <th>20</th>\n",
       "      <td>2010-01-31</td>\n",
       "      <td>-3.0</td>\n",
       "      <td>92.931667</td>\n",
       "      <td>-33.600000</td>\n",
       "    </tr>\n",
       "    <tr>\n",
       "      <th>21</th>\n",
       "      <td>2010-02-28</td>\n",
       "      <td>-3.0</td>\n",
       "      <td>93.150333</td>\n",
       "      <td>-34.200000</td>\n",
       "    </tr>\n",
       "    <tr>\n",
       "      <th>22</th>\n",
       "      <td>2010-03-31</td>\n",
       "      <td>-1.8</td>\n",
       "      <td>93.369000</td>\n",
       "      <td>-34.800000</td>\n",
       "    </tr>\n",
       "    <tr>\n",
       "      <th>23</th>\n",
       "      <td>2010-04-30</td>\n",
       "      <td>-1.8</td>\n",
       "      <td>93.749000</td>\n",
       "      <td>-34.600000</td>\n",
       "    </tr>\n",
       "    <tr>\n",
       "      <th>24</th>\n",
       "      <td>2010-05-31</td>\n",
       "      <td>-1.8</td>\n",
       "      <td>93.876000</td>\n",
       "      <td>-40.000000</td>\n",
       "    </tr>\n",
       "    <tr>\n",
       "      <th>25</th>\n",
       "      <td>2010-06-30</td>\n",
       "      <td>-1.7</td>\n",
       "      <td>94.055000</td>\n",
       "      <td>-39.800000</td>\n",
       "    </tr>\n",
       "    <tr>\n",
       "      <th>26</th>\n",
       "      <td>2010-07-31</td>\n",
       "      <td>-1.7</td>\n",
       "      <td>94.215000</td>\n",
       "      <td>-40.300000</td>\n",
       "    </tr>\n",
       "    <tr>\n",
       "      <th>27</th>\n",
       "      <td>2010-08-31</td>\n",
       "      <td>-1.7</td>\n",
       "      <td>94.027000</td>\n",
       "      <td>-38.300000</td>\n",
       "    </tr>\n",
       "    <tr>\n",
       "      <th>28</th>\n",
       "      <td>2010-09-30</td>\n",
       "      <td>-1.1</td>\n",
       "      <td>94.199000</td>\n",
       "      <td>-37.500000</td>\n",
       "    </tr>\n",
       "    <tr>\n",
       "      <th>29</th>\n",
       "      <td>2010-10-31</td>\n",
       "      <td>-1.1</td>\n",
       "      <td>94.601000</td>\n",
       "      <td>-49.500000</td>\n",
       "    </tr>\n",
       "  </tbody>\n",
       "</table>\n",
       "</div>"
      ],
      "text/plain": [
       "          date  tx_var_emploi  idx_prix_conso  idx_conf_conso\n",
       "0   2008-05-31            1.1       93.994000      -36.400000\n",
       "1   2008-06-30            1.4       94.465000      -41.800000\n",
       "2   2008-07-31            1.4       93.918000      -42.700000\n",
       "3   2008-08-31            1.4       93.444000      -36.100000\n",
       "4   2008-09-30           -0.1       93.621000      -38.250000\n",
       "5   2008-10-31           -0.1       93.798000      -40.400000\n",
       "6   2008-11-30           -0.1       93.200000      -42.000000\n",
       "7   2008-12-31           -0.2       92.756000      -45.900000\n",
       "8   2009-01-31           -0.2       92.785000      -47.266667\n",
       "9   2009-02-28           -0.2       92.814000      -48.633333\n",
       "10  2009-03-31           -1.8       92.843000      -50.000000\n",
       "11  2009-04-30           -1.8       93.075000      -47.100000\n",
       "12  2009-05-31           -1.8       92.893000      -46.200000\n",
       "13  2009-06-30           -2.9       92.963000      -40.800000\n",
       "14  2009-07-31           -2.9       92.469000      -33.600000\n",
       "15  2009-08-31           -2.9       92.201000      -31.400000\n",
       "16  2009-09-30           -3.4       92.379000      -29.800000\n",
       "17  2009-10-31           -3.4       92.431000      -26.900000\n",
       "18  2009-11-30           -3.4       92.649000      -30.100000\n",
       "19  2009-12-31           -3.0       92.713000      -33.000000\n",
       "20  2010-01-31           -3.0       92.931667      -33.600000\n",
       "21  2010-02-28           -3.0       93.150333      -34.200000\n",
       "22  2010-03-31           -1.8       93.369000      -34.800000\n",
       "23  2010-04-30           -1.8       93.749000      -34.600000\n",
       "24  2010-05-31           -1.8       93.876000      -40.000000\n",
       "25  2010-06-30           -1.7       94.055000      -39.800000\n",
       "26  2010-07-31           -1.7       94.215000      -40.300000\n",
       "27  2010-08-31           -1.7       94.027000      -38.300000\n",
       "28  2010-09-30           -1.1       94.199000      -37.500000\n",
       "29  2010-10-31           -1.1       94.601000      -49.500000"
      ]
     },
     "metadata": {},
     "output_type": "display_data"
    }
   ],
   "source": [
    "soc = pd.read_csv(PROCESSED_DATA_PATH1)\n",
    "if VERBOSE:\n",
    "    display(soc)"
   ]
  },
  {
   "cell_type": "code",
   "execution_count": 57,
   "id": "EU_nI8cyr-CW",
   "metadata": {
    "id": "EU_nI8cyr-CW",
    "scrolled": true
   },
   "outputs": [
    {
     "name": "stderr",
     "output_type": "stream",
     "text": [
      "C:\\Users\\chihi\\AppData\\Local\\Temp\\ipykernel_9372\\2601080825.py:8: SettingWithCopyWarning: \n",
      "A value is trying to be set on a copy of a slice from a DataFrame.\n",
      "Try using .loc[row_indexer,col_indexer] = value instead\n",
      "\n",
      "See the caveats in the documentation: https://pandas.pydata.org/pandas-docs/stable/user_guide/indexing.html#returning-a-view-versus-a-copy\n",
      "  X[column] = X[column].astype(\"category\").cat.codes\n",
      "C:\\Users\\chihi\\AppData\\Local\\Temp\\ipykernel_9372\\2601080825.py:8: SettingWithCopyWarning: \n",
      "A value is trying to be set on a copy of a slice from a DataFrame.\n",
      "Try using .loc[row_indexer,col_indexer] = value instead\n",
      "\n",
      "See the caveats in the documentation: https://pandas.pydata.org/pandas-docs/stable/user_guide/indexing.html#returning-a-view-versus-a-copy\n",
      "  X[column] = X[column].astype(\"category\").cat.codes\n",
      "C:\\Users\\chihi\\AppData\\Local\\Temp\\ipykernel_9372\\2601080825.py:8: SettingWithCopyWarning: \n",
      "A value is trying to be set on a copy of a slice from a DataFrame.\n",
      "Try using .loc[row_indexer,col_indexer] = value instead\n",
      "\n",
      "See the caveats in the documentation: https://pandas.pydata.org/pandas-docs/stable/user_guide/indexing.html#returning-a-view-versus-a-copy\n",
      "  X[column] = X[column].astype(\"category\").cat.codes\n",
      "C:\\Users\\chihi\\AppData\\Local\\Temp\\ipykernel_9372\\2601080825.py:8: SettingWithCopyWarning: \n",
      "A value is trying to be set on a copy of a slice from a DataFrame.\n",
      "Try using .loc[row_indexer,col_indexer] = value instead\n",
      "\n",
      "See the caveats in the documentation: https://pandas.pydata.org/pandas-docs/stable/user_guide/indexing.html#returning-a-view-versus-a-copy\n",
      "  X[column] = X[column].astype(\"category\").cat.codes\n",
      "C:\\Users\\chihi\\AppData\\Local\\Temp\\ipykernel_9372\\2601080825.py:8: SettingWithCopyWarning: \n",
      "A value is trying to be set on a copy of a slice from a DataFrame.\n",
      "Try using .loc[row_indexer,col_indexer] = value instead\n",
      "\n",
      "See the caveats in the documentation: https://pandas.pydata.org/pandas-docs/stable/user_guide/indexing.html#returning-a-view-versus-a-copy\n",
      "  X[column] = X[column].astype(\"category\").cat.codes\n",
      "C:\\Users\\chihi\\AppData\\Local\\Temp\\ipykernel_9372\\2601080825.py:8: SettingWithCopyWarning: \n",
      "A value is trying to be set on a copy of a slice from a DataFrame.\n",
      "Try using .loc[row_indexer,col_indexer] = value instead\n",
      "\n",
      "See the caveats in the documentation: https://pandas.pydata.org/pandas-docs/stable/user_guide/indexing.html#returning-a-view-versus-a-copy\n",
      "  X[column] = X[column].astype(\"category\").cat.codes\n",
      "C:\\Users\\chihi\\AppData\\Local\\Temp\\ipykernel_9372\\2601080825.py:8: SettingWithCopyWarning: \n",
      "A value is trying to be set on a copy of a slice from a DataFrame.\n",
      "Try using .loc[row_indexer,col_indexer] = value instead\n",
      "\n",
      "See the caveats in the documentation: https://pandas.pydata.org/pandas-docs/stable/user_guide/indexing.html#returning-a-view-versus-a-copy\n",
      "  X[column] = X[column].astype(\"category\").cat.codes\n",
      "C:\\Users\\chihi\\AppData\\Local\\Temp\\ipykernel_9372\\2601080825.py:8: SettingWithCopyWarning: \n",
      "A value is trying to be set on a copy of a slice from a DataFrame.\n",
      "Try using .loc[row_indexer,col_indexer] = value instead\n",
      "\n",
      "See the caveats in the documentation: https://pandas.pydata.org/pandas-docs/stable/user_guide/indexing.html#returning-a-view-versus-a-copy\n",
      "  X[column] = X[column].astype(\"category\").cat.codes\n",
      "C:\\Users\\chihi\\AppData\\Local\\Temp\\ipykernel_9372\\2601080825.py:8: SettingWithCopyWarning: \n",
      "A value is trying to be set on a copy of a slice from a DataFrame.\n",
      "Try using .loc[row_indexer,col_indexer] = value instead\n",
      "\n",
      "See the caveats in the documentation: https://pandas.pydata.org/pandas-docs/stable/user_guide/indexing.html#returning-a-view-versus-a-copy\n",
      "  X[column] = X[column].astype(\"category\").cat.codes\n"
     ]
    }
   ],
   "source": [
    "# train_test split\n",
    "#column_index_to_exclude = data.columns.get_loc('statut')\n",
    "column_index_to_exclude = data.columns.get_loc('statut','duree_contact') #eliminate the most important feature so that maybe other features rise in importance\n",
    "num_columns = data.shape[1]\n",
    "columns_to_keep = [i for i in range(num_columns) if i != column_index_to_exclude]\n",
    "X = data.iloc[:, columns_to_keep]\n",
    "for column in X.columns:\n",
    "    if X[column].dtype == \"O\":\n",
    "        X[column] = X[column].astype(\"category\").cat.codes\n",
    "y = data[\"statut\"].astype(\"category\").cat.codes\n",
    "\n",
    "X_train, X_test, y_train, y_test = train_test_split(X, y, test_size=0.2)\n",
    "\n",
    "# X.info()"
   ]
  },
  {
   "cell_type": "code",
   "execution_count": 58,
   "id": "V8w5Fx7yr-CW",
   "metadata": {
    "id": "V8w5Fx7yr-CW"
   },
   "outputs": [],
   "source": [
    "# Define the hyperparameters to be searched for each classifier\n",
    "grid_params_svc = {\n",
    "    \"kernel\": [\"linear\", \"rbf\"],\n",
    "    \"C\": [0.1, 1, 10, 100],\n",
    "}\n",
    "\n",
    "grid_params_rf = {\n",
    "    \"n_estimators\": [10, 50, 100, 200],\n",
    "    \"max_depth\": [None, 5, 10, 15],\n",
    "    \"min_samples_split\": [2, 5, 10],\n",
    "}\n",
    "\n",
    "grid_params_xgb = {\n",
    "    \"n_estimators\": [10, 50, 100, 200],\n",
    "    \"max_depth\": [3, 5, 10, 15],\n",
    "    \"learning_rate\": [0.1, 0.01, 0.05],\n",
    "}\n",
    "\n",
    "grid_params_knn = {\n",
    "    \"n_neighbors\": [3, 5, 7],\n",
    "    \"weights\": [\"uniform\", \"distance\"],\n",
    "    \"p\": [1, 2],\n",
    "}\n",
    "\n",
    "\n",
    "grid_params_dt = {\n",
    "    \"max_depth\": [None, 5, 10],\n",
    "    \"min_samples_split\": [2, 5, 10],\n",
    "    \"min_samples_leaf\": [1, 2, 4],\n",
    "}"
   ]
  },
  {
   "cell_type": "code",
   "execution_count": 59,
   "id": "F8e_fUZBr-CX",
   "metadata": {
    "id": "F8e_fUZBr-CX"
   },
   "outputs": [],
   "source": [
    "# Conduct grid search for each classifier\n",
    "grid_dt = GridSearchCV(\n",
    "    DecisionTreeClassifier(), grid_params_dt, cv=5, verbose=1, scoring=\"accuracy\"\n",
    ")\n",
    "\n",
    "# grid_svc = GridSearchCV(SVC(), grid_params_svc, cv=5, verbose=1, scoring=\"accuracy\")\n",
    "\n",
    "# grid_rf = GridSearchCV(\n",
    "#     RandomForestClassifier(), grid_params_rf, cv=5, verbose=1, scoring=\"accuracy\"\n",
    "# )\n",
    "\n",
    "grid_xgb = GridSearchCV(\n",
    "    XGBClassifier(), grid_params_xgb, cv=5, verbose=1, scoring=\"accuracy\"\n",
    ")\n",
    "\n",
    "grid_knn = GridSearchCV(\n",
    "    KNeighborsClassifier(), grid_params_knn, cv=5, verbose=1, scoring=\"accuracy\"\n",
    ")"
   ]
  },
  {
   "cell_type": "code",
   "execution_count": null,
   "id": "472fe6f9",
   "metadata": {},
   "outputs": [],
   "source": []
  },
  {
   "cell_type": "code",
   "execution_count": 60,
   "id": "3kJFg_cfr-CY",
   "metadata": {
    "colab": {
     "base_uri": "https://localhost:8080/",
     "height": 135
    },
    "id": "3kJFg_cfr-CY",
    "outputId": "65c37ef0-7775-4d9f-afe6-72c14560cd8d"
   },
   "outputs": [
    {
     "name": "stdout",
     "output_type": "stream",
     "text": [
      "Fitting 5 folds for each of 27 candidates, totalling 135 fits\n"
     ]
    },
    {
     "data": {
      "text/plain": [
       "GridSearchCV(cv=5, estimator=DecisionTreeClassifier(),\n",
       "             param_grid={'max_depth': [None, 5, 10],\n",
       "                         'min_samples_leaf': [1, 2, 4],\n",
       "                         'min_samples_split': [2, 5, 10]},\n",
       "             scoring='accuracy', verbose=1)"
      ]
     },
     "execution_count": 60,
     "metadata": {},
     "output_type": "execute_result"
    }
   ],
   "source": [
    "# Fit the pipeline with the training data\n",
    "grid_dt.fit(X_train, y_train)"
   ]
  },
  {
   "cell_type": "code",
   "execution_count": 61,
   "id": "17aa7d4f",
   "metadata": {},
   "outputs": [
    {
     "name": "stdout",
     "output_type": "stream",
     "text": [
      "int16\n",
      "int64\n",
      "int8\n",
      "int32\n",
      "float64\n"
     ]
    }
   ],
   "source": [
    "column_data_types = X_train.dtypes.unique()\n",
    "\n",
    "# Print the unique data types\n",
    "for data_type in column_data_types:\n",
    "    print(data_type)"
   ]
  },
  {
   "cell_type": "code",
   "execution_count": 62,
   "id": "S3OZrZKhr-CY",
   "metadata": {
    "colab": {
     "base_uri": "https://localhost:8080/",
     "height": 256
    },
    "id": "S3OZrZKhr-CY",
    "outputId": "b3f2e495-861c-4d47-e06e-f31960dd360c"
   },
   "outputs": [
    {
     "name": "stdout",
     "output_type": "stream",
     "text": [
      "Fitting 5 folds for each of 12 candidates, totalling 60 fits\n"
     ]
    },
    {
     "name": "stderr",
     "output_type": "stream",
     "text": [
      "D:\\SoftwareDev\\anaconda\\lib\\site-packages\\sklearn\\neighbors\\_classification.py:228: FutureWarning: Unlike other reduction functions (e.g. `skew`, `kurtosis`), the default behavior of `mode` typically preserves the axis it acts along. In SciPy 1.11.0, this behavior will change: the default value of `keepdims` will become False, the `axis` over which the statistic is taken will be eliminated, and the value None will no longer be accepted. Set `keepdims` to True or False to avoid this warning.\n",
      "  mode, _ = stats.mode(_y[neigh_ind, k], axis=1)\n",
      "D:\\SoftwareDev\\anaconda\\lib\\site-packages\\sklearn\\neighbors\\_classification.py:228: FutureWarning: Unlike other reduction functions (e.g. `skew`, `kurtosis`), the default behavior of `mode` typically preserves the axis it acts along. In SciPy 1.11.0, this behavior will change: the default value of `keepdims` will become False, the `axis` over which the statistic is taken will be eliminated, and the value None will no longer be accepted. Set `keepdims` to True or False to avoid this warning.\n",
      "  mode, _ = stats.mode(_y[neigh_ind, k], axis=1)\n",
      "D:\\SoftwareDev\\anaconda\\lib\\site-packages\\sklearn\\neighbors\\_classification.py:228: FutureWarning: Unlike other reduction functions (e.g. `skew`, `kurtosis`), the default behavior of `mode` typically preserves the axis it acts along. In SciPy 1.11.0, this behavior will change: the default value of `keepdims` will become False, the `axis` over which the statistic is taken will be eliminated, and the value None will no longer be accepted. Set `keepdims` to True or False to avoid this warning.\n",
      "  mode, _ = stats.mode(_y[neigh_ind, k], axis=1)\n",
      "D:\\SoftwareDev\\anaconda\\lib\\site-packages\\sklearn\\neighbors\\_classification.py:228: FutureWarning: Unlike other reduction functions (e.g. `skew`, `kurtosis`), the default behavior of `mode` typically preserves the axis it acts along. In SciPy 1.11.0, this behavior will change: the default value of `keepdims` will become False, the `axis` over which the statistic is taken will be eliminated, and the value None will no longer be accepted. Set `keepdims` to True or False to avoid this warning.\n",
      "  mode, _ = stats.mode(_y[neigh_ind, k], axis=1)\n",
      "D:\\SoftwareDev\\anaconda\\lib\\site-packages\\sklearn\\neighbors\\_classification.py:228: FutureWarning: Unlike other reduction functions (e.g. `skew`, `kurtosis`), the default behavior of `mode` typically preserves the axis it acts along. In SciPy 1.11.0, this behavior will change: the default value of `keepdims` will become False, the `axis` over which the statistic is taken will be eliminated, and the value None will no longer be accepted. Set `keepdims` to True or False to avoid this warning.\n",
      "  mode, _ = stats.mode(_y[neigh_ind, k], axis=1)\n",
      "D:\\SoftwareDev\\anaconda\\lib\\site-packages\\sklearn\\neighbors\\_classification.py:228: FutureWarning: Unlike other reduction functions (e.g. `skew`, `kurtosis`), the default behavior of `mode` typically preserves the axis it acts along. In SciPy 1.11.0, this behavior will change: the default value of `keepdims` will become False, the `axis` over which the statistic is taken will be eliminated, and the value None will no longer be accepted. Set `keepdims` to True or False to avoid this warning.\n",
      "  mode, _ = stats.mode(_y[neigh_ind, k], axis=1)\n",
      "D:\\SoftwareDev\\anaconda\\lib\\site-packages\\sklearn\\neighbors\\_classification.py:228: FutureWarning: Unlike other reduction functions (e.g. `skew`, `kurtosis`), the default behavior of `mode` typically preserves the axis it acts along. In SciPy 1.11.0, this behavior will change: the default value of `keepdims` will become False, the `axis` over which the statistic is taken will be eliminated, and the value None will no longer be accepted. Set `keepdims` to True or False to avoid this warning.\n",
      "  mode, _ = stats.mode(_y[neigh_ind, k], axis=1)\n",
      "D:\\SoftwareDev\\anaconda\\lib\\site-packages\\sklearn\\neighbors\\_classification.py:228: FutureWarning: Unlike other reduction functions (e.g. `skew`, `kurtosis`), the default behavior of `mode` typically preserves the axis it acts along. In SciPy 1.11.0, this behavior will change: the default value of `keepdims` will become False, the `axis` over which the statistic is taken will be eliminated, and the value None will no longer be accepted. Set `keepdims` to True or False to avoid this warning.\n",
      "  mode, _ = stats.mode(_y[neigh_ind, k], axis=1)\n",
      "D:\\SoftwareDev\\anaconda\\lib\\site-packages\\sklearn\\neighbors\\_classification.py:228: FutureWarning: Unlike other reduction functions (e.g. `skew`, `kurtosis`), the default behavior of `mode` typically preserves the axis it acts along. In SciPy 1.11.0, this behavior will change: the default value of `keepdims` will become False, the `axis` over which the statistic is taken will be eliminated, and the value None will no longer be accepted. Set `keepdims` to True or False to avoid this warning.\n",
      "  mode, _ = stats.mode(_y[neigh_ind, k], axis=1)\n",
      "D:\\SoftwareDev\\anaconda\\lib\\site-packages\\sklearn\\neighbors\\_classification.py:228: FutureWarning: Unlike other reduction functions (e.g. `skew`, `kurtosis`), the default behavior of `mode` typically preserves the axis it acts along. In SciPy 1.11.0, this behavior will change: the default value of `keepdims` will become False, the `axis` over which the statistic is taken will be eliminated, and the value None will no longer be accepted. Set `keepdims` to True or False to avoid this warning.\n",
      "  mode, _ = stats.mode(_y[neigh_ind, k], axis=1)\n",
      "D:\\SoftwareDev\\anaconda\\lib\\site-packages\\sklearn\\neighbors\\_classification.py:228: FutureWarning: Unlike other reduction functions (e.g. `skew`, `kurtosis`), the default behavior of `mode` typically preserves the axis it acts along. In SciPy 1.11.0, this behavior will change: the default value of `keepdims` will become False, the `axis` over which the statistic is taken will be eliminated, and the value None will no longer be accepted. Set `keepdims` to True or False to avoid this warning.\n",
      "  mode, _ = stats.mode(_y[neigh_ind, k], axis=1)\n",
      "D:\\SoftwareDev\\anaconda\\lib\\site-packages\\sklearn\\neighbors\\_classification.py:228: FutureWarning: Unlike other reduction functions (e.g. `skew`, `kurtosis`), the default behavior of `mode` typically preserves the axis it acts along. In SciPy 1.11.0, this behavior will change: the default value of `keepdims` will become False, the `axis` over which the statistic is taken will be eliminated, and the value None will no longer be accepted. Set `keepdims` to True or False to avoid this warning.\n",
      "  mode, _ = stats.mode(_y[neigh_ind, k], axis=1)\n",
      "D:\\SoftwareDev\\anaconda\\lib\\site-packages\\sklearn\\neighbors\\_classification.py:228: FutureWarning: Unlike other reduction functions (e.g. `skew`, `kurtosis`), the default behavior of `mode` typically preserves the axis it acts along. In SciPy 1.11.0, this behavior will change: the default value of `keepdims` will become False, the `axis` over which the statistic is taken will be eliminated, and the value None will no longer be accepted. Set `keepdims` to True or False to avoid this warning.\n",
      "  mode, _ = stats.mode(_y[neigh_ind, k], axis=1)\n",
      "D:\\SoftwareDev\\anaconda\\lib\\site-packages\\sklearn\\neighbors\\_classification.py:228: FutureWarning: Unlike other reduction functions (e.g. `skew`, `kurtosis`), the default behavior of `mode` typically preserves the axis it acts along. In SciPy 1.11.0, this behavior will change: the default value of `keepdims` will become False, the `axis` over which the statistic is taken will be eliminated, and the value None will no longer be accepted. Set `keepdims` to True or False to avoid this warning.\n",
      "  mode, _ = stats.mode(_y[neigh_ind, k], axis=1)\n",
      "D:\\SoftwareDev\\anaconda\\lib\\site-packages\\sklearn\\neighbors\\_classification.py:228: FutureWarning: Unlike other reduction functions (e.g. `skew`, `kurtosis`), the default behavior of `mode` typically preserves the axis it acts along. In SciPy 1.11.0, this behavior will change: the default value of `keepdims` will become False, the `axis` over which the statistic is taken will be eliminated, and the value None will no longer be accepted. Set `keepdims` to True or False to avoid this warning.\n",
      "  mode, _ = stats.mode(_y[neigh_ind, k], axis=1)\n",
      "D:\\SoftwareDev\\anaconda\\lib\\site-packages\\sklearn\\neighbors\\_classification.py:228: FutureWarning: Unlike other reduction functions (e.g. `skew`, `kurtosis`), the default behavior of `mode` typically preserves the axis it acts along. In SciPy 1.11.0, this behavior will change: the default value of `keepdims` will become False, the `axis` over which the statistic is taken will be eliminated, and the value None will no longer be accepted. Set `keepdims` to True or False to avoid this warning.\n",
      "  mode, _ = stats.mode(_y[neigh_ind, k], axis=1)\n"
     ]
    },
    {
     "name": "stderr",
     "output_type": "stream",
     "text": [
      "D:\\SoftwareDev\\anaconda\\lib\\site-packages\\sklearn\\neighbors\\_classification.py:228: FutureWarning: Unlike other reduction functions (e.g. `skew`, `kurtosis`), the default behavior of `mode` typically preserves the axis it acts along. In SciPy 1.11.0, this behavior will change: the default value of `keepdims` will become False, the `axis` over which the statistic is taken will be eliminated, and the value None will no longer be accepted. Set `keepdims` to True or False to avoid this warning.\n",
      "  mode, _ = stats.mode(_y[neigh_ind, k], axis=1)\n",
      "D:\\SoftwareDev\\anaconda\\lib\\site-packages\\sklearn\\neighbors\\_classification.py:228: FutureWarning: Unlike other reduction functions (e.g. `skew`, `kurtosis`), the default behavior of `mode` typically preserves the axis it acts along. In SciPy 1.11.0, this behavior will change: the default value of `keepdims` will become False, the `axis` over which the statistic is taken will be eliminated, and the value None will no longer be accepted. Set `keepdims` to True or False to avoid this warning.\n",
      "  mode, _ = stats.mode(_y[neigh_ind, k], axis=1)\n",
      "D:\\SoftwareDev\\anaconda\\lib\\site-packages\\sklearn\\neighbors\\_classification.py:228: FutureWarning: Unlike other reduction functions (e.g. `skew`, `kurtosis`), the default behavior of `mode` typically preserves the axis it acts along. In SciPy 1.11.0, this behavior will change: the default value of `keepdims` will become False, the `axis` over which the statistic is taken will be eliminated, and the value None will no longer be accepted. Set `keepdims` to True or False to avoid this warning.\n",
      "  mode, _ = stats.mode(_y[neigh_ind, k], axis=1)\n",
      "D:\\SoftwareDev\\anaconda\\lib\\site-packages\\sklearn\\neighbors\\_classification.py:228: FutureWarning: Unlike other reduction functions (e.g. `skew`, `kurtosis`), the default behavior of `mode` typically preserves the axis it acts along. In SciPy 1.11.0, this behavior will change: the default value of `keepdims` will become False, the `axis` over which the statistic is taken will be eliminated, and the value None will no longer be accepted. Set `keepdims` to True or False to avoid this warning.\n",
      "  mode, _ = stats.mode(_y[neigh_ind, k], axis=1)\n",
      "D:\\SoftwareDev\\anaconda\\lib\\site-packages\\sklearn\\neighbors\\_classification.py:228: FutureWarning: Unlike other reduction functions (e.g. `skew`, `kurtosis`), the default behavior of `mode` typically preserves the axis it acts along. In SciPy 1.11.0, this behavior will change: the default value of `keepdims` will become False, the `axis` over which the statistic is taken will be eliminated, and the value None will no longer be accepted. Set `keepdims` to True or False to avoid this warning.\n",
      "  mode, _ = stats.mode(_y[neigh_ind, k], axis=1)\n",
      "D:\\SoftwareDev\\anaconda\\lib\\site-packages\\sklearn\\neighbors\\_classification.py:228: FutureWarning: Unlike other reduction functions (e.g. `skew`, `kurtosis`), the default behavior of `mode` typically preserves the axis it acts along. In SciPy 1.11.0, this behavior will change: the default value of `keepdims` will become False, the `axis` over which the statistic is taken will be eliminated, and the value None will no longer be accepted. Set `keepdims` to True or False to avoid this warning.\n",
      "  mode, _ = stats.mode(_y[neigh_ind, k], axis=1)\n",
      "D:\\SoftwareDev\\anaconda\\lib\\site-packages\\sklearn\\neighbors\\_classification.py:228: FutureWarning: Unlike other reduction functions (e.g. `skew`, `kurtosis`), the default behavior of `mode` typically preserves the axis it acts along. In SciPy 1.11.0, this behavior will change: the default value of `keepdims` will become False, the `axis` over which the statistic is taken will be eliminated, and the value None will no longer be accepted. Set `keepdims` to True or False to avoid this warning.\n",
      "  mode, _ = stats.mode(_y[neigh_ind, k], axis=1)\n",
      "D:\\SoftwareDev\\anaconda\\lib\\site-packages\\sklearn\\neighbors\\_classification.py:228: FutureWarning: Unlike other reduction functions (e.g. `skew`, `kurtosis`), the default behavior of `mode` typically preserves the axis it acts along. In SciPy 1.11.0, this behavior will change: the default value of `keepdims` will become False, the `axis` over which the statistic is taken will be eliminated, and the value None will no longer be accepted. Set `keepdims` to True or False to avoid this warning.\n",
      "  mode, _ = stats.mode(_y[neigh_ind, k], axis=1)\n",
      "D:\\SoftwareDev\\anaconda\\lib\\site-packages\\sklearn\\neighbors\\_classification.py:228: FutureWarning: Unlike other reduction functions (e.g. `skew`, `kurtosis`), the default behavior of `mode` typically preserves the axis it acts along. In SciPy 1.11.0, this behavior will change: the default value of `keepdims` will become False, the `axis` over which the statistic is taken will be eliminated, and the value None will no longer be accepted. Set `keepdims` to True or False to avoid this warning.\n",
      "  mode, _ = stats.mode(_y[neigh_ind, k], axis=1)\n",
      "D:\\SoftwareDev\\anaconda\\lib\\site-packages\\sklearn\\neighbors\\_classification.py:228: FutureWarning: Unlike other reduction functions (e.g. `skew`, `kurtosis`), the default behavior of `mode` typically preserves the axis it acts along. In SciPy 1.11.0, this behavior will change: the default value of `keepdims` will become False, the `axis` over which the statistic is taken will be eliminated, and the value None will no longer be accepted. Set `keepdims` to True or False to avoid this warning.\n",
      "  mode, _ = stats.mode(_y[neigh_ind, k], axis=1)\n",
      "D:\\SoftwareDev\\anaconda\\lib\\site-packages\\sklearn\\neighbors\\_classification.py:228: FutureWarning: Unlike other reduction functions (e.g. `skew`, `kurtosis`), the default behavior of `mode` typically preserves the axis it acts along. In SciPy 1.11.0, this behavior will change: the default value of `keepdims` will become False, the `axis` over which the statistic is taken will be eliminated, and the value None will no longer be accepted. Set `keepdims` to True or False to avoid this warning.\n",
      "  mode, _ = stats.mode(_y[neigh_ind, k], axis=1)\n",
      "D:\\SoftwareDev\\anaconda\\lib\\site-packages\\sklearn\\neighbors\\_classification.py:228: FutureWarning: Unlike other reduction functions (e.g. `skew`, `kurtosis`), the default behavior of `mode` typically preserves the axis it acts along. In SciPy 1.11.0, this behavior will change: the default value of `keepdims` will become False, the `axis` over which the statistic is taken will be eliminated, and the value None will no longer be accepted. Set `keepdims` to True or False to avoid this warning.\n",
      "  mode, _ = stats.mode(_y[neigh_ind, k], axis=1)\n",
      "D:\\SoftwareDev\\anaconda\\lib\\site-packages\\sklearn\\neighbors\\_classification.py:228: FutureWarning: Unlike other reduction functions (e.g. `skew`, `kurtosis`), the default behavior of `mode` typically preserves the axis it acts along. In SciPy 1.11.0, this behavior will change: the default value of `keepdims` will become False, the `axis` over which the statistic is taken will be eliminated, and the value None will no longer be accepted. Set `keepdims` to True or False to avoid this warning.\n",
      "  mode, _ = stats.mode(_y[neigh_ind, k], axis=1)\n",
      "D:\\SoftwareDev\\anaconda\\lib\\site-packages\\sklearn\\neighbors\\_classification.py:228: FutureWarning: Unlike other reduction functions (e.g. `skew`, `kurtosis`), the default behavior of `mode` typically preserves the axis it acts along. In SciPy 1.11.0, this behavior will change: the default value of `keepdims` will become False, the `axis` over which the statistic is taken will be eliminated, and the value None will no longer be accepted. Set `keepdims` to True or False to avoid this warning.\n",
      "  mode, _ = stats.mode(_y[neigh_ind, k], axis=1)\n"
     ]
    },
    {
     "data": {
      "text/plain": [
       "GridSearchCV(cv=5, estimator=KNeighborsClassifier(),\n",
       "             param_grid={'n_neighbors': [3, 5, 7], 'p': [1, 2],\n",
       "                         'weights': ['uniform', 'distance']},\n",
       "             scoring='accuracy', verbose=1)"
      ]
     },
     "execution_count": 62,
     "metadata": {},
     "output_type": "execute_result"
    }
   ],
   "source": [
    "grid_knn.fit(X_train, y_train)"
   ]
  },
  {
   "cell_type": "code",
   "execution_count": 63,
   "id": "5edE2dSAr-CY",
   "metadata": {
    "id": "5edE2dSAr-CY"
   },
   "outputs": [],
   "source": [
    "# Fit the pipeline with the training data\n",
    "\n",
    "# grid_rf.fit(X_train, y_train)"
   ]
  },
  {
   "cell_type": "code",
   "execution_count": 64,
   "id": "ybbr2c99r-CY",
   "metadata": {
    "colab": {
     "base_uri": "https://localhost:8080/",
     "height": 135
    },
    "id": "ybbr2c99r-CY",
    "outputId": "68adf4a5-ae1a-4619-8832-c95d99d90460"
   },
   "outputs": [
    {
     "name": "stdout",
     "output_type": "stream",
     "text": [
      "Fitting 5 folds for each of 48 candidates, totalling 240 fits\n"
     ]
    },
    {
     "data": {
      "text/plain": [
       "GridSearchCV(cv=5,\n",
       "             estimator=XGBClassifier(base_score=None, booster=None,\n",
       "                                     callbacks=None, colsample_bylevel=None,\n",
       "                                     colsample_bynode=None,\n",
       "                                     colsample_bytree=None,\n",
       "                                     early_stopping_rounds=None,\n",
       "                                     enable_categorical=False, eval_metric=None,\n",
       "                                     feature_types=None, gamma=None,\n",
       "                                     gpu_id=None, grow_policy=None,\n",
       "                                     importance_type=None,\n",
       "                                     interaction_constraints=None,\n",
       "                                     learning_rate=None,...\n",
       "                                     max_cat_to_onehot=None,\n",
       "                                     max_delta_step=None, max_depth=None,\n",
       "                                     max_leaves=None, min_child_weight=None,\n",
       "                                     missing=nan, monotone_constraints=None,\n",
       "                                     n_estimators=100, n_jobs=None,\n",
       "                                     num_parallel_tree=None, predictor=None,\n",
       "                                     random_state=None, ...),\n",
       "             param_grid={'learning_rate': [0.1, 0.01, 0.05],\n",
       "                         'max_depth': [3, 5, 10, 15],\n",
       "                         'n_estimators': [10, 50, 100, 200]},\n",
       "             scoring='accuracy', verbose=1)"
      ]
     },
     "execution_count": 64,
     "metadata": {},
     "output_type": "execute_result"
    }
   ],
   "source": [
    "# Fit the pipeline with the training data\n",
    "\n",
    "grid_xgb.fit(X_train, y_train)"
   ]
  },
  {
   "cell_type": "code",
   "execution_count": 65,
   "id": "yHm1wyURr-CZ",
   "metadata": {
    "id": "yHm1wyURr-CZ"
   },
   "outputs": [],
   "source": [
    "# Fit the pipeline with the training data\n",
    "\n",
    "# grid_svc.fit(X_train, y_train)"
   ]
  },
  {
   "cell_type": "code",
   "execution_count": 66,
   "id": "SEmao74Ar-CZ",
   "metadata": {
    "colab": {
     "base_uri": "https://localhost:8080/"
    },
    "id": "SEmao74Ar-CZ",
    "outputId": "c8996e7b-6f67-4597-e149-266aab888baf"
   },
   "outputs": [
    {
     "name": "stdout",
     "output_type": "stream",
     "text": [
      "Best parameters for XGBoost:  {'learning_rate': 0.1, 'max_depth': 5, 'n_estimators': 100}\n",
      "Best score for XGBoost:  0.8494517226077315\n",
      "Best parameters for KNN:  {'n_neighbors': 7, 'p': 1, 'weights': 'distance'}\n",
      "Best score for KNN:  0.7940068834433985\n",
      "Best parameters for decision tree:  {'max_depth': 5, 'min_samples_leaf': 1, 'min_samples_split': 5}\n",
      "Best score for decision tree:  0.8395645895876405\n"
     ]
    }
   ],
   "source": [
    "# Print the best parameters and best score for each classifier\n",
    "# print(\"Best parameters for SVM: \", grid_svc.best_params_)\n",
    "# print(\"Best score for SVM: \", grid_svc.best_score_)\n",
    "\n",
    "# print(\"Best parameters for Random Forest: \", grid_rf.best_params_)\n",
    "# print(\"Best score for Random Forest: \", grid_rf.best_score_)\n",
    "\n",
    "print(\"Best parameters for XGBoost: \", grid_xgb.best_params_)\n",
    "print(\"Best score for XGBoost: \", grid_xgb.best_score_)\n",
    "\n",
    "print(\"Best parameters for KNN: \", grid_knn.best_params_)\n",
    "print(\"Best score for KNN: \", grid_knn.best_score_)\n",
    "\n",
    "print(\"Best parameters for decision tree: \", grid_dt.best_params_)\n",
    "print(\"Best score for decision tree: \", grid_dt.best_score_)"
   ]
  },
  {
   "cell_type": "markdown",
   "id": "abS08IZYr-CZ",
   "metadata": {
    "id": "abS08IZYr-CZ"
   },
   "source": [
    "## 1-1  K-NN "
   ]
  },
  {
   "cell_type": "code",
   "execution_count": 67,
   "id": "5Wl0_lMqr-CZ",
   "metadata": {
    "colab": {
     "base_uri": "https://localhost:8080/",
     "height": 1000
    },
    "id": "5Wl0_lMqr-CZ",
    "outputId": "502e35ed-4f46-4d26-9a5c-ce4cfaeb305f"
   },
   "outputs": [
    {
     "name": "stdout",
     "output_type": "stream",
     "text": [
      "Accuracy of KNN classifier on training set: 1.00\n",
      "Accuracy of KNN classifier on test set: 0.79\n",
      "\n",
      "Classification Report of Classifier:\n",
      "\n",
      "              precision    recall  f1-score   support\n",
      "\n",
      "           0       0.91      1.00      0.95      3187\n",
      "           1       0.00      0.00      0.00       154\n",
      "           2       0.74      0.84      0.79      3947\n",
      "           3       0.64      0.59      0.62      1063\n",
      "           4       0.11      0.02      0.03       677\n",
      "\n",
      "    accuracy                           0.79      9028\n",
      "   macro avg       0.48      0.49      0.48      9028\n",
      "weighted avg       0.73      0.79      0.76      9028\n",
      "\n"
     ]
    },
    {
     "data": {
      "text/plain": [
       "Text(0.5, 1.0, 'Confusion Matrix')"
      ]
     },
     "execution_count": 67,
     "metadata": {},
     "output_type": "execute_result"
    },
    {
     "data": {
      "image/png": "[encoded data removed]",
      "text/plain": [
       "<Figure size 1600x900 with 2 Axes>"
      ]
     },
     "metadata": {},
     "output_type": "display_data"
    }
   ],
   "source": [
    "model_knn = grid_knn.best_estimator_\n",
    "knn_pred = model_knn.predict(X_test)\n",
    "print(\n",
    "    \"Accuracy of KNN classifier on training set: {:.2f}\".format(\n",
    "        model_knn.score(X_train, y_train)\n",
    "    )\n",
    ")\n",
    "print(\n",
    "    \"Accuracy of KNN classifier on test set: {:.2f}\".format(\n",
    "        model_knn.score(X_test, y_test)\n",
    "    )\n",
    ")\n",
    "print(\"\\nClassification Report of Classifier:\\n\")\n",
    "print(classification_report(y_test, knn_pred))\n",
    "\n",
    "knn_matrix = confusion_matrix(knn_pred, y_test, normalize=\"pred\")\n",
    "plt.figure(figsize=(16, 9))\n",
    "ax = plt.subplot()\n",
    "sns.heatmap(knn_matrix, annot=True, ax=ax)\n",
    "\n",
    "# labels, title and ticks\n",
    "ax.set_xlabel(\"Predicted Labels\", size=20)\n",
    "ax.set_ylabel(\"True Labels\", size=20)\n",
    "ax.set_title(\"Confusion Matrix\", size=20)"
   ]
  },
  {
   "cell_type": "markdown",
   "id": "V-KVy8hbr-Ca",
   "metadata": {
    "id": "V-KVy8hbr-Ca"
   },
   "source": [
    "## 1-2 Decision tree\n",
    "- We will build a decision tree model that will predict the outcome of the customer choice (wether to subscribe or not ..).\n",
    "- We will use the model to figure out what features are the most important for determining the outcome. \n",
    "- Decision tree model was chosen because we can interpret the result and see exactly how the model makes the predictions. \n",
    "- The interpretability of the model process of \"thought\" is one of its most powerfull featuers and we will make sure to use that."
   ]
  },
  {
   "cell_type": "code",
   "execution_count": 68,
   "id": "11VIHfAwr-Ca",
   "metadata": {
    "id": "11VIHfAwr-Ca"
   },
   "outputs": [],
   "source": [
    "import graphviz\n",
    "from sklearn.tree import export_graphviz\n",
    "\n",
    "\n",
    "def plot_decision_tree(clf, feature_names, class_names):\n",
    "    # This function requires the pydotplus module and assumes it's been installed.\n",
    "    # In some cases (typically under Windows) even after running conda install, there is a problem where the\n",
    "    # pydotplus module is not found when running from within the notebook environment.  The following code\n",
    "    # may help to guarantee the module is installed in the current notebook environment directory.\n",
    "    #\n",
    "    # import sys; sys.executable\n",
    "    # !{sys.executable} -m pip install pydotplus\n",
    "\n",
    "    export_graphviz(\n",
    "        clf,\n",
    "        out_file=\"tree.dot\",\n",
    "        feature_names=feature_names,\n",
    "        class_names=class_names,\n",
    "        filled=True,\n",
    "        impurity=False,\n",
    "    )\n",
    "    with open(\"tree.dot\") as f:\n",
    "        dot_graph = f.read()\n",
    "    # Alternate method using pydotplus, if installed.\n",
    "    # graph = pydotplus.graphviz.graph_from_dot_data(dot_graph)\n",
    "    # return graph.create_png()\n",
    "    return graphviz.Source(dot_graph)\n",
    "\n",
    "\n",
    "def plot_feature_importances(clf, feature_names):\n",
    "    c_features = len(feature_names)\n",
    "    plt.barh(range(c_features), clf.feature_importances_)\n",
    "    plt.xlabel(\"Feature importance\")\n",
    "    plt.ylabel(\"Feature name\")\n",
    "    plt.yticks(np.arange(c_features), feature_names)"
   ]
  },
  {
   "cell_type": "code",
   "execution_count": 69,
   "id": "RwyrHvbWr-Cb",
   "metadata": {
    "colab": {
     "base_uri": "https://localhost:8080/",
     "height": 1000
    },
    "id": "RwyrHvbWr-Cb",
    "outputId": "e0f5ad3c-7bc7-4623-9563-eccb0fa95d25"
   },
   "outputs": [
    {
     "name": "stdout",
     "output_type": "stream",
     "text": [
      "Accuracy of Decision Tree classifier on training set: 0.84\n",
      "Accuracy of Decision Tree classifier on test set: 0.84\n",
      "\n",
      "Classification Report of Classifier:\n",
      "\n",
      "              precision    recall  f1-score   support\n",
      "\n",
      "           0       1.00      1.00      1.00      3187\n",
      "           1       0.00      0.00      0.00       154\n",
      "           2       0.76      0.93      0.84      3947\n",
      "           3       0.68      0.64      0.66      1063\n",
      "           4       0.00      0.00      0.00       677\n",
      "\n",
      "    accuracy                           0.84      9028\n",
      "   macro avg       0.49      0.52      0.50      9028\n",
      "weighted avg       0.77      0.84      0.80      9028\n",
      "\n"
     ]
    },
    {
     "name": "stderr",
     "output_type": "stream",
     "text": [
      "D:\\SoftwareDev\\anaconda\\lib\\site-packages\\sklearn\\metrics\\_classification.py:1318: UndefinedMetricWarning: Precision and F-score are ill-defined and being set to 0.0 in labels with no predicted samples. Use `zero_division` parameter to control this behavior.\n",
      "  _warn_prf(average, modifier, msg_start, len(result))\n",
      "D:\\SoftwareDev\\anaconda\\lib\\site-packages\\sklearn\\metrics\\_classification.py:1318: UndefinedMetricWarning: Precision and F-score are ill-defined and being set to 0.0 in labels with no predicted samples. Use `zero_division` parameter to control this behavior.\n",
      "  _warn_prf(average, modifier, msg_start, len(result))\n",
      "D:\\SoftwareDev\\anaconda\\lib\\site-packages\\sklearn\\metrics\\_classification.py:1318: UndefinedMetricWarning: Precision and F-score are ill-defined and being set to 0.0 in labels with no predicted samples. Use `zero_division` parameter to control this behavior.\n",
      "  _warn_prf(average, modifier, msg_start, len(result))\n"
     ]
    },
    {
     "data": {
      "text/plain": [
       "Text(0.5, 1.0, 'Confusion Matrix')"
      ]
     },
     "execution_count": 69,
     "metadata": {},
     "output_type": "execute_result"
    },
    {
     "data": {
      "image/png": "[encoded data removed]",
      "text/plain": [
       "<Figure size 1600x900 with 2 Axes>"
      ]
     },
     "metadata": {},
     "output_type": "display_data"
    }
   ],
   "source": [
    "tree = grid_dt.best_estimator_\n",
    "tree_pred=tree.predict(X_test)\n",
    "print('Accuracy of Decision Tree classifier on training set: {:.2f}'\n",
    "     .format(tree.score(X_train, y_train)))\n",
    "print('Accuracy of Decision Tree classifier on test set: {:.2f}'\n",
    "     .format(tree.score(X_test, y_test)))\n",
    "print(\"\\nClassification Report of Classifier:\\n\")\n",
    "print(classification_report(y_test, tree_pred))\n",
    "tree_matrix = confusion_matrix(tree_pred, y_test, normalize='all')\n",
    "plt.figure(figsize=(16, 9))\n",
    "ax= plt.subplot()\n",
    "sns.heatmap(tree_matrix, annot=True, ax = ax)\n",
    "\n",
    "# labels, title and ticks\n",
    "ax.set_xlabel('Predicted Labels', size=20)\n",
    "ax.set_ylabel('True Labels', size=20)\n",
    "ax.set_title('Confusion Matrix', size=20) "
   ]
  },
  {
   "cell_type": "code",
   "execution_count": 70,
   "id": "SrUziBKOr-Cb",
   "metadata": {
    "colab": {
     "base_uri": "https://localhost:8080/",
     "height": 449
    },
    "id": "SrUziBKOr-Cb",
    "outputId": "61c4f7d8-73ab-481c-f0ce-cad4a69a2597"
   },
   "outputs": [
    {
     "data": {
      "image/png": "[encoded data removed]",
      "text/plain": [
       "<Figure size 640x480 with 1 Axes>"
      ]
     },
     "metadata": {},
     "output_type": "display_data"
    }
   ],
   "source": [
    "plot_feature_importances(tree, X.columns)"
   ]
  },
  {
   "cell_type": "markdown",
   "id": "Q2kD46mir-Cb",
   "metadata": {
    "id": "Q2kD46mir-Cb"
   },
   "source": [
    "## 1-3 Random forest "
   ]
  },
  {
   "cell_type": "code",
   "execution_count": 71,
   "id": "0Ci0hpTOr-Cb",
   "metadata": {
    "id": "0Ci0hpTOr-Cb"
   },
   "outputs": [],
   "source": [
    "# model_rf = grid_rf.best_estimator_\n",
    "# rf_pred = model_rf.predict(X_test)\n",
    "# print(\n",
    "#     \"Accuracy of Random Forest on training set: {:.2f}\".format(\n",
    "#         model_rf.score(X_train, y_train)\n",
    "#     )\n",
    "# )\n",
    "# print(\n",
    "#     \"Accuracy of Random Forest classifier on test set: {:.2f}\".format(\n",
    "#         model_rf.score(X_test, y_test)\n",
    "#     )\n",
    "# )\n",
    "# print(\"\\nClassification Report of Classifier:\\n\")\n",
    "# print(classification_report(y_test, rf_pred))\n",
    "\n",
    "# rf_matrix = confusion_matrix(rf_pred, y_test, normalize=\"pred\")\n",
    "# plt.figure(figsize=(16, 9))\n",
    "# ax = plt.subplot()\n",
    "# sns.heatmap(rf_matrix, annot=True, ax=ax)\n",
    "\n",
    "# # labels, title and ticks\n",
    "# ax.set_xlabel(\"Predicted Labels\", size=20)\n",
    "# ax.set_ylabel(\"True Labels\", size=20)\n",
    "# ax.set_title(\"Confusion Matrix\", size=20)\n"
   ]
  },
  {
   "cell_type": "markdown",
   "id": "iCvbU1k9r-Cb",
   "metadata": {
    "id": "iCvbU1k9r-Cb"
   },
   "source": [
    "## 1-4 XGBoost"
   ]
  },
  {
   "cell_type": "code",
   "execution_count": 72,
   "id": "20vtSGDQr-Cb",
   "metadata": {
    "colab": {
     "base_uri": "https://localhost:8080/",
     "height": 1000
    },
    "id": "20vtSGDQr-Cb",
    "outputId": "d5a27ba4-96a9-4a89-fd8a-17498984d3a0"
   },
   "outputs": [
    {
     "name": "stdout",
     "output_type": "stream",
     "text": [
      "Accuracy of XGB classifier on training set: 1.00\n",
      "Accuracy of XGB classifier on test set: 0.79\n",
      "\n",
      "Classification Report of Classifier:\n",
      "\n",
      "              precision    recall  f1-score   support\n",
      "\n",
      "           0       1.00      1.00      1.00      3187\n",
      "           1       0.00      0.00      0.00       154\n",
      "           2       0.78      0.93      0.85      3947\n",
      "           3       0.70      0.73      0.72      1063\n",
      "           4       0.00      0.00      0.00       677\n",
      "\n",
      "    accuracy                           0.85      9028\n",
      "   macro avg       0.49      0.53      0.51      9028\n",
      "weighted avg       0.77      0.85      0.81      9028\n",
      "\n"
     ]
    },
    {
     "name": "stderr",
     "output_type": "stream",
     "text": [
      "D:\\SoftwareDev\\anaconda\\lib\\site-packages\\sklearn\\metrics\\_classification.py:1318: UndefinedMetricWarning: Precision and F-score are ill-defined and being set to 0.0 in labels with no predicted samples. Use `zero_division` parameter to control this behavior.\n",
      "  _warn_prf(average, modifier, msg_start, len(result))\n",
      "D:\\SoftwareDev\\anaconda\\lib\\site-packages\\sklearn\\metrics\\_classification.py:1318: UndefinedMetricWarning: Precision and F-score are ill-defined and being set to 0.0 in labels with no predicted samples. Use `zero_division` parameter to control this behavior.\n",
      "  _warn_prf(average, modifier, msg_start, len(result))\n",
      "D:\\SoftwareDev\\anaconda\\lib\\site-packages\\sklearn\\metrics\\_classification.py:1318: UndefinedMetricWarning: Precision and F-score are ill-defined and being set to 0.0 in labels with no predicted samples. Use `zero_division` parameter to control this behavior.\n",
      "  _warn_prf(average, modifier, msg_start, len(result))\n"
     ]
    },
    {
     "data": {
      "text/plain": [
       "Text(0.5, 1.0, 'Confusion Matrix')"
      ]
     },
     "execution_count": 72,
     "metadata": {},
     "output_type": "execute_result"
    },
    {
     "data": {
      "image/png": "[encoded data removed]",
      "text/plain": [
       "<Figure size 1600x900 with 2 Axes>"
      ]
     },
     "metadata": {},
     "output_type": "display_data"
    }
   ],
   "source": [
    "model_xgb = grid_xgb.best_estimator_\n",
    "xgb_pred = model_xgb.predict(X_test)\n",
    "print(\n",
    "    \"Accuracy of XGB classifier on training set: {:.2f}\".format(\n",
    "        model_knn.score(X_train, y_train)\n",
    "    )\n",
    ")\n",
    "print(\n",
    "    \"Accuracy of XGB classifier on test set: {:.2f}\".format(\n",
    "        model_knn.score(X_test, y_test)\n",
    "    )\n",
    ")\n",
    "print(\"\\nClassification Report of Classifier:\\n\")\n",
    "print(classification_report(y_test, xgb_pred))\n",
    "\n",
    "xgb_matrix = confusion_matrix(xgb_pred, y_test, normalize=\"pred\")\n",
    "plt.figure(figsize=(16, 9))\n",
    "ax = plt.subplot()\n",
    "sns.heatmap(xgb_matrix, annot=True, ax=ax)\n",
    "\n",
    "# labels, title and ticks\n",
    "ax.set_xlabel(\"Predicted Labels\", size=20)\n",
    "ax.set_ylabel(\"True Labels\", size=20)\n",
    "ax.set_title(\"Confusion Matrix\", size=20)"
   ]
  },
  {
   "cell_type": "markdown",
   "id": "WXOHd-igr-Cc",
   "metadata": {
    "id": "WXOHd-igr-Cc"
   },
   "source": [
    "## 1-5 Support Vector Machine "
   ]
  },
  {
   "cell_type": "code",
   "execution_count": 73,
   "id": "J9khiWFur-Cc",
   "metadata": {
    "id": "J9khiWFur-Cc"
   },
   "outputs": [],
   "source": [
    "# model_svc = grid_svc.best_estimator_\n",
    "# svc_pred = model_svc.predict(X_test)\n",
    "# print(\n",
    "#     \"Accuracy of SVM classifier on training set: {:.2f}\".format(\n",
    "#         model_svc.score(X_train, y_train)\n",
    "#     )\n",
    "# )\n",
    "# print(\n",
    "#     \"Accuracy of SVM classifier on test set: {:.2f}\".format(\n",
    "#         model_svc.score(X_test, y_test)\n",
    "#     )\n",
    "# )\n",
    "# print(\"\\nClassification Report of Classifier:\\n\")\n",
    "# print(classification_report(y_test, svc_pred))\n",
    "\n",
    "# svc_matrix = confusion_matrix(svc_pred, y_test, normalize=\"pred\")\n",
    "# plt.figure(figsize=(16, 9))\n",
    "# ax = plt.subplot()\n",
    "# sns.heatmap(svc_matrix, annot=True, ax=ax)\n",
    "\n",
    "# # labels, title and ticks\n",
    "# ax.set_xlabel(\"Predicted Labels\", size=20)\n",
    "# ax.set_ylabel(\"True Labels\", size=20)\n",
    "# ax.set_title(\"Confusion Matrix\", size=20)"
   ]
  },
  {
   "cell_type": "markdown",
   "id": "M2Gsuklzr-Cc",
   "metadata": {
    "id": "M2Gsuklzr-Cc"
   },
   "source": [
    "# 2-Results discussion "
   ]
  },
  {
   "cell_type": "markdown",
   "id": "ea9d08ae",
   "metadata": {
    "id": "Nrn1QDJKr-Cc"
   },
   "source": [
    "* Dealing with unbalanced classes.\n",
    "* Decision Tree: maybe hiding the duree contact from the model can allow other features to rise up in importance."
   ]
  },
  {
   "cell_type": "code",
   "execution_count": null,
   "id": "aa9fb83f",
   "metadata": {},
   "outputs": [],
   "source": []
  },
  {
   "cell_type": "code",
   "execution_count": null,
   "id": "1dad0c25",
   "metadata": {},
   "outputs": [],
   "source": []
  }
 ],
 "metadata": {
  "accelerator": "GPU",
  "colab": {
   "gpuType": "T4",
   "provenance": []
  },
  "kernelspec": {
   "display_name": "Python 3 (ipykernel)",
   "language": "python",
   "name": "python3"
  },
  "language_info": {
   "codemirror_mode": {
    "name": "ipython",
    "version": 3
   },
   "file_extension": ".py",
   "mimetype": "text/x-python",
   "name": "python",
   "nbconvert_exporter": "python",
   "pygments_lexer": "ipython3",
   "version": "3.9.13"
  }
 },
 "nbformat": 4,
 "nbformat_minor": 5
}
