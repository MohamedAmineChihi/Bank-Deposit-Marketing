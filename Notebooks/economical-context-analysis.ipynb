{
 "cells": [
  {
   "cell_type": "markdown",
   "id": "ebd3f8ea",
   "metadata": {},
   "source": [
    "<center><h1> - Economical context analysis - </h1></center>\n",
    "\n"
   ]
  },
  {
   "cell_type": "markdown",
   "id": "d98b6854",
   "metadata": {},
   "source": [
    "## Libraries"
   ]
  },
  {
   "cell_type": "code",
   "execution_count": null,
   "id": "87ae93a7",
   "metadata": {},
   "outputs": [],
   "source": [
    "import pandas as pd\n",
    "import numpy as np\n",
    "import matplotlib.pyplot as plt\n",
    "import seaborn as sns\n",
    "from pathlib import Path\n",
    "import mplcyberpunk\n",
    "\n",
    "from soprasteria.inventory import COLUMNS\n",
    "from soprasteria.preprocess import preprocess_socio_eco_df\n",
    "\n",
    "%load_ext autoreload\n",
    "%autoreload 2"
   ]
  },
  {
   "cell_type": "markdown",
   "id": "47764ea7",
   "metadata": {},
   "source": [
    "## Configs"
   ]
  },
  {
   "cell_type": "code",
   "execution_count": null,
   "id": "25e6759e",
   "metadata": {},
   "outputs": [],
   "source": [
    "VERBOSE = True\n",
    "\n",
    "DATA_PATH = Path(\"../data\")\n",
    "RAW_DATA_PATH = DATA_PATH / \"raw\" / \"socio_eco.csv\"\n",
    "OUTPUT_DATA_PATH = DATA_PATH / \"processed\" / \" socio_eco_processed.csv\""
   ]
  },
  {
   "cell_type": "markdown",
   "id": "01bb39ec",
   "metadata": {},
   "source": [
    "## Reading and inspecting the data "
   ]
  },
  {
   "cell_type": "code",
   "execution_count": null,
   "id": "62f194be",
   "metadata": {},
   "outputs": [],
   "source": [
    "socio_eco_df = pd.read_csv(RAW_DATA_PATH, encoding=\"ANSI\", sep=\";\", index_col=0)\n",
    "\n",
    "if VERBOSE:\n",
    "    display(socio_eco_df)"
   ]
  },
  {
   "cell_type": "code",
   "execution_count": null,
   "id": "8d4e205c",
   "metadata": {},
   "outputs": [],
   "source": [
    "socio_eco_df.info()"
   ]
  },
  {
   "cell_type": "markdown",
   "id": "b0c1aa33",
   "metadata": {},
   "source": [
    "### First impressions:\n",
    "- We have **30** entries (rows). Each row represents a snapshot of different economical indicators at the end of each month between May 2008 and October 2010.\n",
    "- We have a total of **4** features (columns). \\\n",
    "They represent economical indicators of each month:\n",
    "    * `tx_var_emploi` : Taux de variation de l'emploi (indicateur trimestriel)\n",
    "    * `idx_prix_conso` : Indice des prix à la consommation (indicateur mensuel)\n",
    "    * `idx_conf_conso` : Indice de confiance des consommateurs (indicateur mensuel)\n",
    "\n",
    "\n",
    "\n",
    "### Next steps :\n",
    "\n",
    "Even before exploring the data more thoroughly, it is clear that we will need to take care of a few things during pre-processing to clean the data and make it useable for our in-depth Analysis :\n",
    "\n",
    "\n",
    "# Data preprocessing "
   ]
  },
  {
   "cell_type": "code",
   "execution_count": null,
   "id": "294ae91d",
   "metadata": {},
   "outputs": [],
   "source": [
    "socio_eco_df = preprocess_socio_eco_df(socio_eco_df)\n",
    "\n",
    "if VERBOSE:\n",
    "    display(socio_eco_df)"
   ]
  },
  {
   "cell_type": "markdown",
   "id": "5db10607",
   "metadata": {},
   "source": [
    "## Export"
   ]
  },
  {
   "cell_type": "code",
   "execution_count": null,
   "id": "d941a1ed",
   "metadata": {},
   "outputs": [],
   "source": [
    "socio_eco_df.to_csv(OUTPUT_DATA_PATH, index=False)"
   ]
  },
  {
   "cell_type": "markdown",
   "id": "8cdf6c51",
   "metadata": {},
   "source": [
    "# Data vizualisation & analysis"
   ]
  },
  {
   "cell_type": "code",
   "execution_count": null,
   "id": "fd0897ae",
   "metadata": {},
   "outputs": [],
   "source": [
    "# Line Plot - tx_var_emploi\n",
    "plt.figure(figsize=(10, 5))\n",
    "plt.plot(socio_eco_df[COLUMNS.date], socio_eco_df[COLUMNS.variation_emploi])\n",
    "plt.xlabel(COLUMNS.date)\n",
    "plt.ylabel(COLUMNS.variation_emploi)\n",
    "plt.title(COLUMNS.variation_emploi)\n",
    "plt.xticks(rotation=45)\n",
    "mplcyberpunk.add_glow_effects()\n",
    "plt.show()"
   ]
  },
  {
   "cell_type": "code",
   "execution_count": null,
   "id": "8b759709",
   "metadata": {},
   "outputs": [],
   "source": [
    "# Line Plot - idx_prix_conso\n",
    "plt.figure(figsize=(12, 6))\n",
    "plt.plot(socio_eco_df[COLUMNS.date], socio_eco_df[COLUMNS.indice_prix])\n",
    "plt.xlabel(COLUMNS.date)\n",
    "plt.ylabel(COLUMNS.indice_prix)\n",
    "plt.title(COLUMNS.indice_prix)\n",
    "plt.xticks(rotation=45)\n",
    "mplcyberpunk.add_glow_effects()\n",
    "plt.show()"
   ]
  },
  {
   "cell_type": "code",
   "execution_count": null,
   "id": "2fb1ffed",
   "metadata": {},
   "outputs": [],
   "source": [
    "# Line Plot - idx_conf_conso\n",
    "plt.figure(figsize=(12, 6))\n",
    "plt.plot(socio_eco_df[COLUMNS.date], socio_eco_df[COLUMNS.indice_consommateur])\n",
    "plt.xlabel(COLUMNS.date)\n",
    "plt.ylabel(COLUMNS.indice_consommateur)\n",
    "plt.title(COLUMNS.indice_consommateur)\n",
    "plt.xticks(rotation=45)\n",
    "mplcyberpunk.add_glow_effects()\n",
    "plt.show()"
   ]
  },
  {
   "cell_type": "code",
   "execution_count": null,
   "id": "c3e0e2a6",
   "metadata": {},
   "outputs": [],
   "source": [
    "# Scatter Plot - tx_var_emploi vs idx_prix_conso\n",
    "plt.figure(figsize=(8, 6))\n",
    "plt.scatter(socio_eco_df[COLUMNS.variation_emploi], socio_eco_df[COLUMNS.indice_prix])\n",
    "plt.xlabel(COLUMNS.variation_emploi)\n",
    "plt.ylabel(COLUMNS.indice_prix)\n",
    "plt.title(\"tx_var_emploi vs idx_prix_conso\")\n",
    "mplcyberpunk.add_glow_effects()\n",
    "plt.show()\n",
    "\n",
    "# Scatter Plot - tx_var_emploi vs idx_conf_conso\n",
    "plt.figure(figsize=(8, 6))\n",
    "plt.scatter(\n",
    "    socio_eco_df[COLUMNS.variation_emploi], socio_eco_df[COLUMNS.indice_consommateur]\n",
    ")\n",
    "plt.xlabel(COLUMNS.variation_emploi)\n",
    "plt.ylabel(COLUMNS.indice_consommateur)\n",
    "plt.title(\"tx_var_emploi vs idx_conf_conso\")\n",
    "\n",
    "mplcyberpunk.add_glow_effects()\n",
    "plt.show()\n",
    "\n",
    "# Scatter Plot - idx_prix_conso vs idx_conf_conso\n",
    "plt.figure(figsize=(8, 6))\n",
    "plt.scatter(\n",
    "    socio_eco_df[COLUMNS.indice_prix], socio_eco_df[COLUMNS.indice_consommateur]\n",
    ")\n",
    "plt.xlabel(COLUMNS.indice_prix)\n",
    "plt.ylabel(COLUMNS.indice_consommateur)\n",
    "plt.title(\"idx_prix_conso vs idx_conf_conso\")\n",
    "mplcyberpunk.add_glow_effects()\n",
    "plt.show()"
   ]
  },
  {
   "cell_type": "code",
   "execution_count": null,
   "id": "9ec2f2aa",
   "metadata": {},
   "outputs": [],
   "source": []
  }
 ],
 "metadata": {
  "kernelspec": {
   "display_name": "Python 3 (ipykernel)",
   "language": "python",
   "name": "python3"
  },
  "language_info": {
   "codemirror_mode": {
    "name": "ipython",
    "version": 3
   },
   "file_extension": ".py",
   "mimetype": "text/x-python",
   "name": "python",
   "nbconvert_exporter": "python",
   "pygments_lexer": "ipython3",
   "version": "3.9.13"
  }
 },
 "nbformat": 4,
 "nbformat_minor": 5
}
