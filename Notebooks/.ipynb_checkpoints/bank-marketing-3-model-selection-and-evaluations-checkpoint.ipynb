{
 "cells": [
  {
   "cell_type": "markdown",
   "id": "AiahUHvir-CM",
   "metadata": {
    "id": "AiahUHvir-CM"
   },
   "source": [
    " <center><h1> - Bank-marketing : Model selection & evaluation - </h1></center>"
   ]
  },
  {
   "cell_type": "markdown",
   "id": "-gTYIsmmr-CP",
   "metadata": {
    "id": "-gTYIsmmr-CP"
   },
   "source": [
    "# 1-Predicting the outcome of the campaign\n",
    "\n"
   ]
  },
  {
   "cell_type": "code",
   "execution_count": null,
   "id": "RBLokPRir-CQ",
   "metadata": {
    "id": "RBLokPRir-CQ"
   },
   "outputs": [],
   "source": [
    "from sklearn.model_selection import GridSearchCV\n",
    "from sklearn.metrics import classification_report, confusion_matrix\n",
    "from sklearn.model_selection import train_test_split"
   ]
  },
  {
   "cell_type": "code",
   "execution_count": null,
   "id": "kj3p-ENdr-CT",
   "metadata": {
    "id": "kj3p-ENdr-CT"
   },
   "outputs": [],
   "source": [
    "import numpy as np\n",
    "import matplotlib.pyplot as plt\n",
    "import seaborn as sns\n",
    "import pandas as pd"
   ]
  },
  {
   "cell_type": "code",
   "execution_count": null,
   "id": "u6X-ijHDr-CT",
   "metadata": {
    "id": "u6X-ijHDr-CT"
   },
   "outputs": [],
   "source": [
    "from sklearn.neighbors import KNeighborsClassifier\n",
    "from sklearn.tree import DecisionTreeClassifier\n",
    "from sklearn.ensemble import RandomForestClassifier\n",
    "from xgboost import XGBClassifier\n",
    "from sklearn.svm import SVC"
   ]
  },
  {
   "cell_type": "code",
   "execution_count": null,
   "id": "XNfaYZrvr-CU",
   "metadata": {
    "colab": {
     "base_uri": "https://localhost:8080/",
     "height": 661
    },
    "id": "XNfaYZrvr-CU",
    "outputId": "7d83b75b-f209-42e2-c707-8bf0cfe479f3"
   },
   "outputs": [
    {
     "data": {
      "text/html": [
       "\n",
       "  <div id=\"df-b3206cf9-0d23-4ad9-ac84-82d904a32938\">\n",
       "    <div class=\"colab-df-container\">\n",
       "      <div>\n",
       "<style scoped>\n",
       "    .dataframe tbody tr th:only-of-type {\n",
       "        vertical-align: middle;\n",
       "    }\n",
       "\n",
       "    .dataframe tbody tr th {\n",
       "        vertical-align: top;\n",
       "    }\n",
       "\n",
       "    .dataframe thead th {\n",
       "        text-align: right;\n",
       "    }\n",
       "</style>\n",
       "<table border=\"1\" class=\"dataframe\">\n",
       "  <thead>\n",
       "    <tr style=\"text-align: right;\">\n",
       "      <th></th>\n",
       "      <th>date</th>\n",
       "      <th>age</th>\n",
       "      <th>job</th>\n",
       "      <th>relation</th>\n",
       "      <th>education</th>\n",
       "      <th>defaut</th>\n",
       "      <th>balance</th>\n",
       "      <th>pret_immo</th>\n",
       "      <th>pret_perso</th>\n",
       "      <th>contact</th>\n",
       "      <th>duree_contact</th>\n",
       "      <th>nb_contact</th>\n",
       "      <th>nb_j_dernier_contact</th>\n",
       "      <th>nb_contact_derniere_campagne</th>\n",
       "      <th>resultat_derniere_campagne</th>\n",
       "      <th>statut</th>\n",
       "    </tr>\n",
       "  </thead>\n",
       "  <tbody>\n",
       "    <tr>\n",
       "      <th>0</th>\n",
       "      <td>2008-05-05</td>\n",
       "      <td>58</td>\n",
       "      <td>Manager</td>\n",
       "      <td>Marié</td>\n",
       "      <td>Tertiaire</td>\n",
       "      <td>No</td>\n",
       "      <td>2143</td>\n",
       "      <td>Yes</td>\n",
       "      <td>No</td>\n",
       "      <td>Autres</td>\n",
       "      <td>261</td>\n",
       "      <td>1</td>\n",
       "      <td>-1</td>\n",
       "      <td>0</td>\n",
       "      <td>not contacted</td>\n",
       "      <td>Refus</td>\n",
       "    </tr>\n",
       "    <tr>\n",
       "      <th>1</th>\n",
       "      <td>2008-05-05</td>\n",
       "      <td>123</td>\n",
       "      <td>Technicien</td>\n",
       "      <td>not available</td>\n",
       "      <td>Secondaire</td>\n",
       "      <td>No</td>\n",
       "      <td>29</td>\n",
       "      <td>Yes</td>\n",
       "      <td>not available</td>\n",
       "      <td>Autres</td>\n",
       "      <td>151</td>\n",
       "      <td>1</td>\n",
       "      <td>-1</td>\n",
       "      <td>0</td>\n",
       "      <td>not contacted</td>\n",
       "      <td>Refus</td>\n",
       "    </tr>\n",
       "    <tr>\n",
       "      <th>2</th>\n",
       "      <td>2008-05-05</td>\n",
       "      <td>33</td>\n",
       "      <td>Entrepreuneur</td>\n",
       "      <td>Marié</td>\n",
       "      <td>Secondaire</td>\n",
       "      <td>No</td>\n",
       "      <td>2</td>\n",
       "      <td>Yes</td>\n",
       "      <td>Yes</td>\n",
       "      <td>Autres</td>\n",
       "      <td>0</td>\n",
       "      <td>1</td>\n",
       "      <td>-1</td>\n",
       "      <td>0</td>\n",
       "      <td>not contacted</td>\n",
       "      <td>Absent</td>\n",
       "    </tr>\n",
       "    <tr>\n",
       "      <th>3</th>\n",
       "      <td>2008-05-05</td>\n",
       "      <td>47</td>\n",
       "      <td>Col bleu</td>\n",
       "      <td>Marié</td>\n",
       "      <td>not available</td>\n",
       "      <td>No</td>\n",
       "      <td>1506</td>\n",
       "      <td>Yes</td>\n",
       "      <td>No</td>\n",
       "      <td>Autres</td>\n",
       "      <td>0</td>\n",
       "      <td>1</td>\n",
       "      <td>-1</td>\n",
       "      <td>0</td>\n",
       "      <td>not contacted</td>\n",
       "      <td>Absent</td>\n",
       "    </tr>\n",
       "    <tr>\n",
       "      <th>4</th>\n",
       "      <td>2008-05-05</td>\n",
       "      <td>33</td>\n",
       "      <td>Autres</td>\n",
       "      <td>Célibataire</td>\n",
       "      <td>not available</td>\n",
       "      <td>No</td>\n",
       "      <td>1</td>\n",
       "      <td>No</td>\n",
       "      <td>No</td>\n",
       "      <td>Autres</td>\n",
       "      <td>198</td>\n",
       "      <td>1</td>\n",
       "      <td>-1</td>\n",
       "      <td>0</td>\n",
       "      <td>not contacted</td>\n",
       "      <td>Refus</td>\n",
       "    </tr>\n",
       "    <tr>\n",
       "      <th>...</th>\n",
       "      <td>...</td>\n",
       "      <td>...</td>\n",
       "      <td>...</td>\n",
       "      <td>...</td>\n",
       "      <td>...</td>\n",
       "      <td>...</td>\n",
       "      <td>...</td>\n",
       "      <td>...</td>\n",
       "      <td>...</td>\n",
       "      <td>...</td>\n",
       "      <td>...</td>\n",
       "      <td>...</td>\n",
       "      <td>...</td>\n",
       "      <td>...</td>\n",
       "      <td>...</td>\n",
       "      <td>...</td>\n",
       "    </tr>\n",
       "    <tr>\n",
       "      <th>45131</th>\n",
       "      <td>2010-10-27</td>\n",
       "      <td>47</td>\n",
       "      <td>Manager</td>\n",
       "      <td>Marié</td>\n",
       "      <td>Tertiaire</td>\n",
       "      <td>No</td>\n",
       "      <td>0</td>\n",
       "      <td>No</td>\n",
       "      <td>No</td>\n",
       "      <td>Portable</td>\n",
       "      <td>508</td>\n",
       "      <td>1</td>\n",
       "      <td>-1</td>\n",
       "      <td>0</td>\n",
       "      <td>not contacted</td>\n",
       "      <td>Souscrit</td>\n",
       "    </tr>\n",
       "    <tr>\n",
       "      <th>45132</th>\n",
       "      <td>2010-10-27</td>\n",
       "      <td>61</td>\n",
       "      <td>Retraité</td>\n",
       "      <td>Marié</td>\n",
       "      <td>Secondaire</td>\n",
       "      <td>No</td>\n",
       "      <td>1058</td>\n",
       "      <td>No</td>\n",
       "      <td>No</td>\n",
       "      <td>Portable</td>\n",
       "      <td>277</td>\n",
       "      <td>1</td>\n",
       "      <td>92</td>\n",
       "      <td>5</td>\n",
       "      <td>Succes</td>\n",
       "      <td>Refus</td>\n",
       "    </tr>\n",
       "    <tr>\n",
       "      <th>45133</th>\n",
       "      <td>2010-10-27</td>\n",
       "      <td>24</td>\n",
       "      <td>Etudiant</td>\n",
       "      <td>Célibataire</td>\n",
       "      <td>Secondaire</td>\n",
       "      <td>No</td>\n",
       "      <td>822</td>\n",
       "      <td>No</td>\n",
       "      <td>No</td>\n",
       "      <td>Portable</td>\n",
       "      <td>184</td>\n",
       "      <td>1</td>\n",
       "      <td>91</td>\n",
       "      <td>2</td>\n",
       "      <td>Echec</td>\n",
       "      <td>Souscrit</td>\n",
       "    </tr>\n",
       "    <tr>\n",
       "      <th>45134</th>\n",
       "      <td>2010-10-27</td>\n",
       "      <td>70</td>\n",
       "      <td>Retraité</td>\n",
       "      <td>Marié</td>\n",
       "      <td>Secondaire</td>\n",
       "      <td>No</td>\n",
       "      <td>0</td>\n",
       "      <td>No</td>\n",
       "      <td>No</td>\n",
       "      <td>Portable</td>\n",
       "      <td>258</td>\n",
       "      <td>1</td>\n",
       "      <td>92</td>\n",
       "      <td>5</td>\n",
       "      <td>Succes</td>\n",
       "      <td>Souscrit</td>\n",
       "    </tr>\n",
       "    <tr>\n",
       "      <th>45135</th>\n",
       "      <td>2010-10-28</td>\n",
       "      <td>53</td>\n",
       "      <td>Col bleu</td>\n",
       "      <td>Marié</td>\n",
       "      <td>Primaire</td>\n",
       "      <td>No</td>\n",
       "      <td>1294</td>\n",
       "      <td>No</td>\n",
       "      <td>No</td>\n",
       "      <td>Autres</td>\n",
       "      <td>71</td>\n",
       "      <td>1</td>\n",
       "      <td>-1</td>\n",
       "      <td>0</td>\n",
       "      <td>not contacted</td>\n",
       "      <td>Refus</td>\n",
       "    </tr>\n",
       "  </tbody>\n",
       "</table>\n",
       "<p>45136 rows × 16 columns</p>\n",
       "</div>\n",
       "      <button class=\"colab-df-convert\" onclick=\"convertToInteractive('df-b3206cf9-0d23-4ad9-ac84-82d904a32938')\"\n",
       "              title=\"Convert this dataframe to an interactive table.\"\n",
       "              style=\"display:none;\">\n",
       "        \n",
       "  <svg xmlns=\"http://www.w3.org/2000/svg\" height=\"24px\"viewBox=\"0 0 24 24\"\n",
       "       width=\"24px\">\n",
       "    <path d=\"M0 0h24v24H0V0z\" fill=\"none\"/>\n",
       "    <path d=\"M18.56 5.44l.94 2.06.94-2.06 2.06-.94-2.06-.94-.94-2.06-.94 2.06-2.06.94zm-11 1L8.5 8.5l.94-2.06 2.06-.94-2.06-.94L8.5 2.5l-.94 2.06-2.06.94zm10 10l.94 2.06.94-2.06 2.06-.94-2.06-.94-.94-2.06-.94 2.06-2.06.94z\"/><path d=\"M17.41 7.96l-1.37-1.37c-.4-.4-.92-.59-1.43-.59-.52 0-1.04.2-1.43.59L10.3 9.45l-7.72 7.72c-.78.78-.78 2.05 0 2.83L4 21.41c.39.39.9.59 1.41.59.51 0 1.02-.2 1.41-.59l7.78-7.78 2.81-2.81c.8-.78.8-2.07 0-2.86zM5.41 20L4 18.59l7.72-7.72 1.47 1.35L5.41 20z\"/>\n",
       "  </svg>\n",
       "      </button>\n",
       "      \n",
       "  <style>\n",
       "    .colab-df-container {\n",
       "      display:flex;\n",
       "      flex-wrap:wrap;\n",
       "      gap: 12px;\n",
       "    }\n",
       "\n",
       "    .colab-df-convert {\n",
       "      background-color: #E8F0FE;\n",
       "      border: none;\n",
       "      border-radius: 50%;\n",
       "      cursor: pointer;\n",
       "      display: none;\n",
       "      fill: #1967D2;\n",
       "      height: 32px;\n",
       "      padding: 0 0 0 0;\n",
       "      width: 32px;\n",
       "    }\n",
       "\n",
       "    .colab-df-convert:hover {\n",
       "      background-color: #E2EBFA;\n",
       "      box-shadow: 0px 1px 2px rgba(60, 64, 67, 0.3), 0px 1px 3px 1px rgba(60, 64, 67, 0.15);\n",
       "      fill: #174EA6;\n",
       "    }\n",
       "\n",
       "    [theme=dark] .colab-df-convert {\n",
       "      background-color: #3B4455;\n",
       "      fill: #D2E3FC;\n",
       "    }\n",
       "\n",
       "    [theme=dark] .colab-df-convert:hover {\n",
       "      background-color: #434B5C;\n",
       "      box-shadow: 0px 1px 3px 1px rgba(0, 0, 0, 0.15);\n",
       "      filter: drop-shadow(0px 1px 2px rgba(0, 0, 0, 0.3));\n",
       "      fill: #FFFFFF;\n",
       "    }\n",
       "  </style>\n",
       "\n",
       "      <script>\n",
       "        const buttonEl =\n",
       "          document.querySelector('#df-b3206cf9-0d23-4ad9-ac84-82d904a32938 button.colab-df-convert');\n",
       "        buttonEl.style.display =\n",
       "          google.colab.kernel.accessAllowed ? 'block' : 'none';\n",
       "\n",
       "        async function convertToInteractive(key) {\n",
       "          const element = document.querySelector('#df-b3206cf9-0d23-4ad9-ac84-82d904a32938');\n",
       "          const dataTable =\n",
       "            await google.colab.kernel.invokeFunction('convertToInteractive',\n",
       "                                                     [key], {});\n",
       "          if (!dataTable) return;\n",
       "\n",
       "          const docLinkHtml = 'Like what you see? Visit the ' +\n",
       "            '<a target=\"_blank\" href=https://colab.research.google.com/notebooks/data_table.ipynb>data table notebook</a>'\n",
       "            + ' to learn more about interactive tables.';\n",
       "          element.innerHTML = '';\n",
       "          dataTable['output_type'] = 'display_data';\n",
       "          await google.colab.output.renderOutput(dataTable, element);\n",
       "          const docLink = document.createElement('div');\n",
       "          docLink.innerHTML = docLinkHtml;\n",
       "          element.appendChild(docLink);\n",
       "        }\n",
       "      </script>\n",
       "    </div>\n",
       "  </div>\n",
       "  "
      ],
      "text/plain": [
       "             date  age            job       relation      education defaut  \\\n",
       "0      2008-05-05   58        Manager          Marié      Tertiaire     No   \n",
       "1      2008-05-05  123     Technicien  not available     Secondaire     No   \n",
       "2      2008-05-05   33  Entrepreuneur          Marié     Secondaire     No   \n",
       "3      2008-05-05   47       Col bleu          Marié  not available     No   \n",
       "4      2008-05-05   33         Autres    Célibataire  not available     No   \n",
       "...           ...  ...            ...            ...            ...    ...   \n",
       "45131  2010-10-27   47        Manager          Marié      Tertiaire     No   \n",
       "45132  2010-10-27   61       Retraité          Marié     Secondaire     No   \n",
       "45133  2010-10-27   24       Etudiant    Célibataire     Secondaire     No   \n",
       "45134  2010-10-27   70       Retraité          Marié     Secondaire     No   \n",
       "45135  2010-10-28   53       Col bleu          Marié       Primaire     No   \n",
       "\n",
       "       balance pret_immo     pret_perso   contact  duree_contact  nb_contact  \\\n",
       "0         2143       Yes             No    Autres            261           1   \n",
       "1           29       Yes  not available    Autres            151           1   \n",
       "2            2       Yes            Yes    Autres              0           1   \n",
       "3         1506       Yes             No    Autres              0           1   \n",
       "4            1        No             No    Autres            198           1   \n",
       "...        ...       ...            ...       ...            ...         ...   \n",
       "45131        0        No             No  Portable            508           1   \n",
       "45132     1058        No             No  Portable            277           1   \n",
       "45133      822        No             No  Portable            184           1   \n",
       "45134        0        No             No  Portable            258           1   \n",
       "45135     1294        No             No    Autres             71           1   \n",
       "\n",
       "       nb_j_dernier_contact  nb_contact_derniere_campagne  \\\n",
       "0                        -1                             0   \n",
       "1                        -1                             0   \n",
       "2                        -1                             0   \n",
       "3                        -1                             0   \n",
       "4                        -1                             0   \n",
       "...                     ...                           ...   \n",
       "45131                    -1                             0   \n",
       "45132                    92                             5   \n",
       "45133                    91                             2   \n",
       "45134                    92                             5   \n",
       "45135                    -1                             0   \n",
       "\n",
       "      resultat_derniere_campagne    statut  \n",
       "0                  not contacted     Refus  \n",
       "1                  not contacted     Refus  \n",
       "2                  not contacted    Absent  \n",
       "3                  not contacted    Absent  \n",
       "4                  not contacted     Refus  \n",
       "...                          ...       ...  \n",
       "45131              not contacted  Souscrit  \n",
       "45132                     Succes     Refus  \n",
       "45133                      Echec  Souscrit  \n",
       "45134                     Succes  Souscrit  \n",
       "45135              not contacted     Refus  \n",
       "\n",
       "[45136 rows x 16 columns]"
      ]
     },
     "metadata": {},
     "output_type": "display_data"
    }
   ],
   "source": [
    "path = \"data_processed.csv\"\n",
    "data = pd.read_csv(path)\n",
    "display(data)"
   ]
  },
  {
   "cell_type": "code",
   "execution_count": null,
   "id": "EU_nI8cyr-CW",
   "metadata": {
    "id": "EU_nI8cyr-CW"
   },
   "outputs": [],
   "source": [
    "# train_test split\n",
    "X = data.iloc[:, 1:-1]\n",
    "for column in X.columns:\n",
    "    if X[column].dtype == \"O\":\n",
    "        X[column] = X[column].astype(\"category\").cat.codes\n",
    "y = data[\"statut\"].astype(\"category\").cat.codes\n",
    "X_train, X_test, y_train, y_test = train_test_split(X, y, test_size=0.2)\n",
    "\n",
    "# X.info()"
   ]
  },
  {
   "cell_type": "code",
   "execution_count": null,
   "id": "V8w5Fx7yr-CW",
   "metadata": {
    "id": "V8w5Fx7yr-CW"
   },
   "outputs": [],
   "source": [
    "# Define the hyperparameters to be searched for each classifier\n",
    "grid_params_svc = {\n",
    "    \"kernel\": [\"linear\", \"rbf\"],\n",
    "    \"C\": [0.1, 1, 10, 100],\n",
    "}\n",
    "\n",
    "grid_params_rf = {\n",
    "    \"n_estimators\": [10, 50, 100, 200],\n",
    "    \"max_depth\": [None, 5, 10, 15],\n",
    "    \"min_samples_split\": [2, 5, 10],\n",
    "}\n",
    "\n",
    "grid_params_xgb = {\n",
    "    \"n_estimators\": [10, 50, 100, 200],\n",
    "    \"max_depth\": [3, 5, 10, 15],\n",
    "    \"learning_rate\": [0.1, 0.01, 0.05],\n",
    "}\n",
    "\n",
    "grid_params_knn = {\n",
    "    \"n_neighbors\": [3, 5, 7],\n",
    "    \"weights\": [\"uniform\", \"distance\"],\n",
    "    \"p\": [1, 2],\n",
    "}\n",
    "\n",
    "\n",
    "grid_params_dt = {\n",
    "    \"max_depth\": [None, 5, 10],\n",
    "    \"min_samples_split\": [2, 5, 10],\n",
    "    \"min_samples_leaf\": [1, 2, 4],\n",
    "}"
   ]
  },
  {
   "cell_type": "code",
   "execution_count": null,
   "id": "F8e_fUZBr-CX",
   "metadata": {
    "id": "F8e_fUZBr-CX"
   },
   "outputs": [],
   "source": [
    "# Conduct grid search for each classifier\n",
    "grid_dt = GridSearchCV(\n",
    "    DecisionTreeClassifier(), grid_params_dt, cv=5, verbose=1, scoring=\"accuracy\"\n",
    ")\n",
    "\n",
    "# grid_svc = GridSearchCV(SVC(), grid_params_svc, cv=5, verbose=1, scoring=\"accuracy\")\n",
    "\n",
    "# grid_rf = GridSearchCV(\n",
    "#     RandomForestClassifier(), grid_params_rf, cv=5, verbose=1, scoring=\"accuracy\"\n",
    "# )\n",
    "\n",
    "grid_xgb = GridSearchCV(\n",
    "    XGBClassifier(), grid_params_xgb, cv=5, verbose=1, scoring=\"accuracy\"\n",
    ")\n",
    "\n",
    "grid_knn = GridSearchCV(\n",
    "    KNeighborsClassifier(), grid_params_knn, cv=5, verbose=1, scoring=\"accuracy\"\n",
    ")"
   ]
  },
  {
   "cell_type": "code",
   "execution_count": null,
   "id": "3kJFg_cfr-CY",
   "metadata": {
    "colab": {
     "base_uri": "https://localhost:8080/",
     "height": 135
    },
    "id": "3kJFg_cfr-CY",
    "outputId": "65c37ef0-7775-4d9f-afe6-72c14560cd8d"
   },
   "outputs": [
    {
     "name": "stdout",
     "output_type": "stream",
     "text": [
      "Fitting 5 folds for each of 27 candidates, totalling 135 fits\n"
     ]
    },
    {
     "data": {
      "text/html": [
       "<style>#sk-container-id-3 {color: black;background-color: white;}#sk-container-id-3 pre{padding: 0;}#sk-container-id-3 div.sk-toggleable {background-color: white;}#sk-container-id-3 label.sk-toggleable__label {cursor: pointer;display: block;width: 100%;margin-bottom: 0;padding: 0.3em;box-sizing: border-box;text-align: center;}#sk-container-id-3 label.sk-toggleable__label-arrow:before {content: \"▸\";float: left;margin-right: 0.25em;color: #696969;}#sk-container-id-3 label.sk-toggleable__label-arrow:hover:before {color: black;}#sk-container-id-3 div.sk-estimator:hover label.sk-toggleable__label-arrow:before {color: black;}#sk-container-id-3 div.sk-toggleable__content {max-height: 0;max-width: 0;overflow: hidden;text-align: left;background-color: #f0f8ff;}#sk-container-id-3 div.sk-toggleable__content pre {margin: 0.2em;color: black;border-radius: 0.25em;background-color: #f0f8ff;}#sk-container-id-3 input.sk-toggleable__control:checked~div.sk-toggleable__content {max-height: 200px;max-width: 100%;overflow: auto;}#sk-container-id-3 input.sk-toggleable__control:checked~label.sk-toggleable__label-arrow:before {content: \"▾\";}#sk-container-id-3 div.sk-estimator input.sk-toggleable__control:checked~label.sk-toggleable__label {background-color: #d4ebff;}#sk-container-id-3 div.sk-label input.sk-toggleable__control:checked~label.sk-toggleable__label {background-color: #d4ebff;}#sk-container-id-3 input.sk-hidden--visually {border: 0;clip: rect(1px 1px 1px 1px);clip: rect(1px, 1px, 1px, 1px);height: 1px;margin: -1px;overflow: hidden;padding: 0;position: absolute;width: 1px;}#sk-container-id-3 div.sk-estimator {font-family: monospace;background-color: #f0f8ff;border: 1px dotted black;border-radius: 0.25em;box-sizing: border-box;margin-bottom: 0.5em;}#sk-container-id-3 div.sk-estimator:hover {background-color: #d4ebff;}#sk-container-id-3 div.sk-parallel-item::after {content: \"\";width: 100%;border-bottom: 1px solid gray;flex-grow: 1;}#sk-container-id-3 div.sk-label:hover label.sk-toggleable__label {background-color: #d4ebff;}#sk-container-id-3 div.sk-serial::before {content: \"\";position: absolute;border-left: 1px solid gray;box-sizing: border-box;top: 0;bottom: 0;left: 50%;z-index: 0;}#sk-container-id-3 div.sk-serial {display: flex;flex-direction: column;align-items: center;background-color: white;padding-right: 0.2em;padding-left: 0.2em;position: relative;}#sk-container-id-3 div.sk-item {position: relative;z-index: 1;}#sk-container-id-3 div.sk-parallel {display: flex;align-items: stretch;justify-content: center;background-color: white;position: relative;}#sk-container-id-3 div.sk-item::before, #sk-container-id-3 div.sk-parallel-item::before {content: \"\";position: absolute;border-left: 1px solid gray;box-sizing: border-box;top: 0;bottom: 0;left: 50%;z-index: -1;}#sk-container-id-3 div.sk-parallel-item {display: flex;flex-direction: column;z-index: 1;position: relative;background-color: white;}#sk-container-id-3 div.sk-parallel-item:first-child::after {align-self: flex-end;width: 50%;}#sk-container-id-3 div.sk-parallel-item:last-child::after {align-self: flex-start;width: 50%;}#sk-container-id-3 div.sk-parallel-item:only-child::after {width: 0;}#sk-container-id-3 div.sk-dashed-wrapped {border: 1px dashed gray;margin: 0 0.4em 0.5em 0.4em;box-sizing: border-box;padding-bottom: 0.4em;background-color: white;}#sk-container-id-3 div.sk-label label {font-family: monospace;font-weight: bold;display: inline-block;line-height: 1.2em;}#sk-container-id-3 div.sk-label-container {text-align: center;}#sk-container-id-3 div.sk-container {/* jupyter's `normalize.less` sets `[hidden] { display: none; }` but bootstrap.min.css set `[hidden] { display: none !important; }` so we also need the `!important` here to be able to override the default hidden behavior on the sphinx rendered scikit-learn.org. See: https://github.com/scikit-learn/scikit-learn/issues/21755 */display: inline-block !important;position: relative;}#sk-container-id-3 div.sk-text-repr-fallback {display: none;}</style><div id=\"sk-container-id-3\" class=\"sk-top-container\"><div class=\"sk-text-repr-fallback\"><pre>GridSearchCV(cv=5, estimator=DecisionTreeClassifier(),\n",
       "             param_grid={&#x27;max_depth&#x27;: [None, 5, 10],\n",
       "                         &#x27;min_samples_leaf&#x27;: [1, 2, 4],\n",
       "                         &#x27;min_samples_split&#x27;: [2, 5, 10]},\n",
       "             scoring=&#x27;accuracy&#x27;, verbose=1)</pre><b>In a Jupyter environment, please rerun this cell to show the HTML representation or trust the notebook. <br />On GitHub, the HTML representation is unable to render, please try loading this page with nbviewer.org.</b></div><div class=\"sk-container\" hidden><div class=\"sk-item sk-dashed-wrapped\"><div class=\"sk-label-container\"><div class=\"sk-label sk-toggleable\"><input class=\"sk-toggleable__control sk-hidden--visually\" id=\"sk-estimator-id-7\" type=\"checkbox\" ><label for=\"sk-estimator-id-7\" class=\"sk-toggleable__label sk-toggleable__label-arrow\">GridSearchCV</label><div class=\"sk-toggleable__content\"><pre>GridSearchCV(cv=5, estimator=DecisionTreeClassifier(),\n",
       "             param_grid={&#x27;max_depth&#x27;: [None, 5, 10],\n",
       "                         &#x27;min_samples_leaf&#x27;: [1, 2, 4],\n",
       "                         &#x27;min_samples_split&#x27;: [2, 5, 10]},\n",
       "             scoring=&#x27;accuracy&#x27;, verbose=1)</pre></div></div></div><div class=\"sk-parallel\"><div class=\"sk-parallel-item\"><div class=\"sk-item\"><div class=\"sk-label-container\"><div class=\"sk-label sk-toggleable\"><input class=\"sk-toggleable__control sk-hidden--visually\" id=\"sk-estimator-id-8\" type=\"checkbox\" ><label for=\"sk-estimator-id-8\" class=\"sk-toggleable__label sk-toggleable__label-arrow\">estimator: DecisionTreeClassifier</label><div class=\"sk-toggleable__content\"><pre>DecisionTreeClassifier()</pre></div></div></div><div class=\"sk-serial\"><div class=\"sk-item\"><div class=\"sk-estimator sk-toggleable\"><input class=\"sk-toggleable__control sk-hidden--visually\" id=\"sk-estimator-id-9\" type=\"checkbox\" ><label for=\"sk-estimator-id-9\" class=\"sk-toggleable__label sk-toggleable__label-arrow\">DecisionTreeClassifier</label><div class=\"sk-toggleable__content\"><pre>DecisionTreeClassifier()</pre></div></div></div></div></div></div></div></div></div></div>"
      ],
      "text/plain": [
       "GridSearchCV(cv=5, estimator=DecisionTreeClassifier(),\n",
       "             param_grid={'max_depth': [None, 5, 10],\n",
       "                         'min_samples_leaf': [1, 2, 4],\n",
       "                         'min_samples_split': [2, 5, 10]},\n",
       "             scoring='accuracy', verbose=1)"
      ]
     },
     "execution_count": 24,
     "metadata": {},
     "output_type": "execute_result"
    }
   ],
   "source": [
    "# Fit the pipeline with the training data\n",
    "grid_dt.fit(X_train, y_train)"
   ]
  },
  {
   "cell_type": "code",
   "execution_count": null,
   "id": "S3OZrZKhr-CY",
   "metadata": {
    "colab": {
     "base_uri": "https://localhost:8080/",
     "height": 256
    },
    "id": "S3OZrZKhr-CY",
    "outputId": "b3f2e495-861c-4d47-e06e-f31960dd360c"
   },
   "outputs": [
    {
     "name": "stdout",
     "output_type": "stream",
     "text": [
      "Fitting 5 folds for each of 12 candidates, totalling 60 fits\n"
     ]
    },
    {
     "data": {
      "text/html": [
       "<style>#sk-container-id-4 {color: black;background-color: white;}#sk-container-id-4 pre{padding: 0;}#sk-container-id-4 div.sk-toggleable {background-color: white;}#sk-container-id-4 label.sk-toggleable__label {cursor: pointer;display: block;width: 100%;margin-bottom: 0;padding: 0.3em;box-sizing: border-box;text-align: center;}#sk-container-id-4 label.sk-toggleable__label-arrow:before {content: \"▸\";float: left;margin-right: 0.25em;color: #696969;}#sk-container-id-4 label.sk-toggleable__label-arrow:hover:before {color: black;}#sk-container-id-4 div.sk-estimator:hover label.sk-toggleable__label-arrow:before {color: black;}#sk-container-id-4 div.sk-toggleable__content {max-height: 0;max-width: 0;overflow: hidden;text-align: left;background-color: #f0f8ff;}#sk-container-id-4 div.sk-toggleable__content pre {margin: 0.2em;color: black;border-radius: 0.25em;background-color: #f0f8ff;}#sk-container-id-4 input.sk-toggleable__control:checked~div.sk-toggleable__content {max-height: 200px;max-width: 100%;overflow: auto;}#sk-container-id-4 input.sk-toggleable__control:checked~label.sk-toggleable__label-arrow:before {content: \"▾\";}#sk-container-id-4 div.sk-estimator input.sk-toggleable__control:checked~label.sk-toggleable__label {background-color: #d4ebff;}#sk-container-id-4 div.sk-label input.sk-toggleable__control:checked~label.sk-toggleable__label {background-color: #d4ebff;}#sk-container-id-4 input.sk-hidden--visually {border: 0;clip: rect(1px 1px 1px 1px);clip: rect(1px, 1px, 1px, 1px);height: 1px;margin: -1px;overflow: hidden;padding: 0;position: absolute;width: 1px;}#sk-container-id-4 div.sk-estimator {font-family: monospace;background-color: #f0f8ff;border: 1px dotted black;border-radius: 0.25em;box-sizing: border-box;margin-bottom: 0.5em;}#sk-container-id-4 div.sk-estimator:hover {background-color: #d4ebff;}#sk-container-id-4 div.sk-parallel-item::after {content: \"\";width: 100%;border-bottom: 1px solid gray;flex-grow: 1;}#sk-container-id-4 div.sk-label:hover label.sk-toggleable__label {background-color: #d4ebff;}#sk-container-id-4 div.sk-serial::before {content: \"\";position: absolute;border-left: 1px solid gray;box-sizing: border-box;top: 0;bottom: 0;left: 50%;z-index: 0;}#sk-container-id-4 div.sk-serial {display: flex;flex-direction: column;align-items: center;background-color: white;padding-right: 0.2em;padding-left: 0.2em;position: relative;}#sk-container-id-4 div.sk-item {position: relative;z-index: 1;}#sk-container-id-4 div.sk-parallel {display: flex;align-items: stretch;justify-content: center;background-color: white;position: relative;}#sk-container-id-4 div.sk-item::before, #sk-container-id-4 div.sk-parallel-item::before {content: \"\";position: absolute;border-left: 1px solid gray;box-sizing: border-box;top: 0;bottom: 0;left: 50%;z-index: -1;}#sk-container-id-4 div.sk-parallel-item {display: flex;flex-direction: column;z-index: 1;position: relative;background-color: white;}#sk-container-id-4 div.sk-parallel-item:first-child::after {align-self: flex-end;width: 50%;}#sk-container-id-4 div.sk-parallel-item:last-child::after {align-self: flex-start;width: 50%;}#sk-container-id-4 div.sk-parallel-item:only-child::after {width: 0;}#sk-container-id-4 div.sk-dashed-wrapped {border: 1px dashed gray;margin: 0 0.4em 0.5em 0.4em;box-sizing: border-box;padding-bottom: 0.4em;background-color: white;}#sk-container-id-4 div.sk-label label {font-family: monospace;font-weight: bold;display: inline-block;line-height: 1.2em;}#sk-container-id-4 div.sk-label-container {text-align: center;}#sk-container-id-4 div.sk-container {/* jupyter's `normalize.less` sets `[hidden] { display: none; }` but bootstrap.min.css set `[hidden] { display: none !important; }` so we also need the `!important` here to be able to override the default hidden behavior on the sphinx rendered scikit-learn.org. See: https://github.com/scikit-learn/scikit-learn/issues/21755 */display: inline-block !important;position: relative;}#sk-container-id-4 div.sk-text-repr-fallback {display: none;}</style><div id=\"sk-container-id-4\" class=\"sk-top-container\"><div class=\"sk-text-repr-fallback\"><pre>GridSearchCV(cv=5, estimator=KNeighborsClassifier(),\n",
       "             param_grid={&#x27;n_neighbors&#x27;: [3, 5, 7], &#x27;p&#x27;: [1, 2],\n",
       "                         &#x27;weights&#x27;: [&#x27;uniform&#x27;, &#x27;distance&#x27;]},\n",
       "             scoring=&#x27;accuracy&#x27;, verbose=1)</pre><b>In a Jupyter environment, please rerun this cell to show the HTML representation or trust the notebook. <br />On GitHub, the HTML representation is unable to render, please try loading this page with nbviewer.org.</b></div><div class=\"sk-container\" hidden><div class=\"sk-item sk-dashed-wrapped\"><div class=\"sk-label-container\"><div class=\"sk-label sk-toggleable\"><input class=\"sk-toggleable__control sk-hidden--visually\" id=\"sk-estimator-id-10\" type=\"checkbox\" ><label for=\"sk-estimator-id-10\" class=\"sk-toggleable__label sk-toggleable__label-arrow\">GridSearchCV</label><div class=\"sk-toggleable__content\"><pre>GridSearchCV(cv=5, estimator=KNeighborsClassifier(),\n",
       "             param_grid={&#x27;n_neighbors&#x27;: [3, 5, 7], &#x27;p&#x27;: [1, 2],\n",
       "                         &#x27;weights&#x27;: [&#x27;uniform&#x27;, &#x27;distance&#x27;]},\n",
       "             scoring=&#x27;accuracy&#x27;, verbose=1)</pre></div></div></div><div class=\"sk-parallel\"><div class=\"sk-parallel-item\"><div class=\"sk-item\"><div class=\"sk-label-container\"><div class=\"sk-label sk-toggleable\"><input class=\"sk-toggleable__control sk-hidden--visually\" id=\"sk-estimator-id-11\" type=\"checkbox\" ><label for=\"sk-estimator-id-11\" class=\"sk-toggleable__label sk-toggleable__label-arrow\">estimator: KNeighborsClassifier</label><div class=\"sk-toggleable__content\"><pre>KNeighborsClassifier()</pre></div></div></div><div class=\"sk-serial\"><div class=\"sk-item\"><div class=\"sk-estimator sk-toggleable\"><input class=\"sk-toggleable__control sk-hidden--visually\" id=\"sk-estimator-id-12\" type=\"checkbox\" ><label for=\"sk-estimator-id-12\" class=\"sk-toggleable__label sk-toggleable__label-arrow\">KNeighborsClassifier</label><div class=\"sk-toggleable__content\"><pre>KNeighborsClassifier()</pre></div></div></div></div></div></div></div></div></div></div>"
      ],
      "text/plain": [
       "GridSearchCV(cv=5, estimator=KNeighborsClassifier(),\n",
       "             param_grid={'n_neighbors': [3, 5, 7], 'p': [1, 2],\n",
       "                         'weights': ['uniform', 'distance']},\n",
       "             scoring='accuracy', verbose=1)"
      ]
     },
     "execution_count": 25,
     "metadata": {},
     "output_type": "execute_result"
    }
   ],
   "source": [
    "grid_knn.fit(X_train, y_train)"
   ]
  },
  {
   "cell_type": "code",
   "execution_count": null,
   "id": "5edE2dSAr-CY",
   "metadata": {
    "id": "5edE2dSAr-CY"
   },
   "outputs": [],
   "source": [
    "# Fit the pipeline with the training data\n",
    "\n",
    "# grid_rf.fit(X_train, y_train)"
   ]
  },
  {
   "cell_type": "code",
   "execution_count": null,
   "id": "ybbr2c99r-CY",
   "metadata": {
    "colab": {
     "base_uri": "https://localhost:8080/",
     "height": 135
    },
    "id": "ybbr2c99r-CY",
    "outputId": "68adf4a5-ae1a-4619-8832-c95d99d90460"
   },
   "outputs": [
    {
     "name": "stdout",
     "output_type": "stream",
     "text": [
      "Fitting 5 folds for each of 48 candidates, totalling 240 fits\n"
     ]
    },
    {
     "data": {
      "text/html": [
       "<style>#sk-container-id-5 {color: black;background-color: white;}#sk-container-id-5 pre{padding: 0;}#sk-container-id-5 div.sk-toggleable {background-color: white;}#sk-container-id-5 label.sk-toggleable__label {cursor: pointer;display: block;width: 100%;margin-bottom: 0;padding: 0.3em;box-sizing: border-box;text-align: center;}#sk-container-id-5 label.sk-toggleable__label-arrow:before {content: \"▸\";float: left;margin-right: 0.25em;color: #696969;}#sk-container-id-5 label.sk-toggleable__label-arrow:hover:before {color: black;}#sk-container-id-5 div.sk-estimator:hover label.sk-toggleable__label-arrow:before {color: black;}#sk-container-id-5 div.sk-toggleable__content {max-height: 0;max-width: 0;overflow: hidden;text-align: left;background-color: #f0f8ff;}#sk-container-id-5 div.sk-toggleable__content pre {margin: 0.2em;color: black;border-radius: 0.25em;background-color: #f0f8ff;}#sk-container-id-5 input.sk-toggleable__control:checked~div.sk-toggleable__content {max-height: 200px;max-width: 100%;overflow: auto;}#sk-container-id-5 input.sk-toggleable__control:checked~label.sk-toggleable__label-arrow:before {content: \"▾\";}#sk-container-id-5 div.sk-estimator input.sk-toggleable__control:checked~label.sk-toggleable__label {background-color: #d4ebff;}#sk-container-id-5 div.sk-label input.sk-toggleable__control:checked~label.sk-toggleable__label {background-color: #d4ebff;}#sk-container-id-5 input.sk-hidden--visually {border: 0;clip: rect(1px 1px 1px 1px);clip: rect(1px, 1px, 1px, 1px);height: 1px;margin: -1px;overflow: hidden;padding: 0;position: absolute;width: 1px;}#sk-container-id-5 div.sk-estimator {font-family: monospace;background-color: #f0f8ff;border: 1px dotted black;border-radius: 0.25em;box-sizing: border-box;margin-bottom: 0.5em;}#sk-container-id-5 div.sk-estimator:hover {background-color: #d4ebff;}#sk-container-id-5 div.sk-parallel-item::after {content: \"\";width: 100%;border-bottom: 1px solid gray;flex-grow: 1;}#sk-container-id-5 div.sk-label:hover label.sk-toggleable__label {background-color: #d4ebff;}#sk-container-id-5 div.sk-serial::before {content: \"\";position: absolute;border-left: 1px solid gray;box-sizing: border-box;top: 0;bottom: 0;left: 50%;z-index: 0;}#sk-container-id-5 div.sk-serial {display: flex;flex-direction: column;align-items: center;background-color: white;padding-right: 0.2em;padding-left: 0.2em;position: relative;}#sk-container-id-5 div.sk-item {position: relative;z-index: 1;}#sk-container-id-5 div.sk-parallel {display: flex;align-items: stretch;justify-content: center;background-color: white;position: relative;}#sk-container-id-5 div.sk-item::before, #sk-container-id-5 div.sk-parallel-item::before {content: \"\";position: absolute;border-left: 1px solid gray;box-sizing: border-box;top: 0;bottom: 0;left: 50%;z-index: -1;}#sk-container-id-5 div.sk-parallel-item {display: flex;flex-direction: column;z-index: 1;position: relative;background-color: white;}#sk-container-id-5 div.sk-parallel-item:first-child::after {align-self: flex-end;width: 50%;}#sk-container-id-5 div.sk-parallel-item:last-child::after {align-self: flex-start;width: 50%;}#sk-container-id-5 div.sk-parallel-item:only-child::after {width: 0;}#sk-container-id-5 div.sk-dashed-wrapped {border: 1px dashed gray;margin: 0 0.4em 0.5em 0.4em;box-sizing: border-box;padding-bottom: 0.4em;background-color: white;}#sk-container-id-5 div.sk-label label {font-family: monospace;font-weight: bold;display: inline-block;line-height: 1.2em;}#sk-container-id-5 div.sk-label-container {text-align: center;}#sk-container-id-5 div.sk-container {/* jupyter's `normalize.less` sets `[hidden] { display: none; }` but bootstrap.min.css set `[hidden] { display: none !important; }` so we also need the `!important` here to be able to override the default hidden behavior on the sphinx rendered scikit-learn.org. See: https://github.com/scikit-learn/scikit-learn/issues/21755 */display: inline-block !important;position: relative;}#sk-container-id-5 div.sk-text-repr-fallback {display: none;}</style><div id=\"sk-container-id-5\" class=\"sk-top-container\"><div class=\"sk-text-repr-fallback\"><pre>GridSearchCV(cv=5,\n",
       "             estimator=XGBClassifier(base_score=None, booster=None,\n",
       "                                     callbacks=None, colsample_bylevel=None,\n",
       "                                     colsample_bynode=None,\n",
       "                                     colsample_bytree=None,\n",
       "                                     early_stopping_rounds=None,\n",
       "                                     enable_categorical=False, eval_metric=None,\n",
       "                                     feature_types=None, gamma=None,\n",
       "                                     gpu_id=None, grow_policy=None,\n",
       "                                     importance_type=None,\n",
       "                                     interaction_constraints=None,\n",
       "                                     learning_rate=None,...\n",
       "                                     max_cat_to_onehot=None,\n",
       "                                     max_delta_step=None, max_depth=None,\n",
       "                                     max_leaves=None, min_child_weight=None,\n",
       "                                     missing=nan, monotone_constraints=None,\n",
       "                                     n_estimators=100, n_jobs=None,\n",
       "                                     num_parallel_tree=None, predictor=None,\n",
       "                                     random_state=None, ...),\n",
       "             param_grid={&#x27;learning_rate&#x27;: [0.1, 0.01, 0.05],\n",
       "                         &#x27;max_depth&#x27;: [3, 5, 10, 15],\n",
       "                         &#x27;n_estimators&#x27;: [10, 50, 100, 200]},\n",
       "             scoring=&#x27;accuracy&#x27;, verbose=1)</pre><b>In a Jupyter environment, please rerun this cell to show the HTML representation or trust the notebook. <br />On GitHub, the HTML representation is unable to render, please try loading this page with nbviewer.org.</b></div><div class=\"sk-container\" hidden><div class=\"sk-item sk-dashed-wrapped\"><div class=\"sk-label-container\"><div class=\"sk-label sk-toggleable\"><input class=\"sk-toggleable__control sk-hidden--visually\" id=\"sk-estimator-id-13\" type=\"checkbox\" ><label for=\"sk-estimator-id-13\" class=\"sk-toggleable__label sk-toggleable__label-arrow\">GridSearchCV</label><div class=\"sk-toggleable__content\"><pre>GridSearchCV(cv=5,\n",
       "             estimator=XGBClassifier(base_score=None, booster=None,\n",
       "                                     callbacks=None, colsample_bylevel=None,\n",
       "                                     colsample_bynode=None,\n",
       "                                     colsample_bytree=None,\n",
       "                                     early_stopping_rounds=None,\n",
       "                                     enable_categorical=False, eval_metric=None,\n",
       "                                     feature_types=None, gamma=None,\n",
       "                                     gpu_id=None, grow_policy=None,\n",
       "                                     importance_type=None,\n",
       "                                     interaction_constraints=None,\n",
       "                                     learning_rate=None,...\n",
       "                                     max_cat_to_onehot=None,\n",
       "                                     max_delta_step=None, max_depth=None,\n",
       "                                     max_leaves=None, min_child_weight=None,\n",
       "                                     missing=nan, monotone_constraints=None,\n",
       "                                     n_estimators=100, n_jobs=None,\n",
       "                                     num_parallel_tree=None, predictor=None,\n",
       "                                     random_state=None, ...),\n",
       "             param_grid={&#x27;learning_rate&#x27;: [0.1, 0.01, 0.05],\n",
       "                         &#x27;max_depth&#x27;: [3, 5, 10, 15],\n",
       "                         &#x27;n_estimators&#x27;: [10, 50, 100, 200]},\n",
       "             scoring=&#x27;accuracy&#x27;, verbose=1)</pre></div></div></div><div class=\"sk-parallel\"><div class=\"sk-parallel-item\"><div class=\"sk-item\"><div class=\"sk-label-container\"><div class=\"sk-label sk-toggleable\"><input class=\"sk-toggleable__control sk-hidden--visually\" id=\"sk-estimator-id-14\" type=\"checkbox\" ><label for=\"sk-estimator-id-14\" class=\"sk-toggleable__label sk-toggleable__label-arrow\">estimator: XGBClassifier</label><div class=\"sk-toggleable__content\"><pre>XGBClassifier(base_score=None, booster=None, callbacks=None,\n",
       "              colsample_bylevel=None, colsample_bynode=None,\n",
       "              colsample_bytree=None, early_stopping_rounds=None,\n",
       "              enable_categorical=False, eval_metric=None, feature_types=None,\n",
       "              gamma=None, gpu_id=None, grow_policy=None, importance_type=None,\n",
       "              interaction_constraints=None, learning_rate=None, max_bin=None,\n",
       "              max_cat_threshold=None, max_cat_to_onehot=None,\n",
       "              max_delta_step=None, max_depth=None, max_leaves=None,\n",
       "              min_child_weight=None, missing=nan, monotone_constraints=None,\n",
       "              n_estimators=100, n_jobs=None, num_parallel_tree=None,\n",
       "              predictor=None, random_state=None, ...)</pre></div></div></div><div class=\"sk-serial\"><div class=\"sk-item\"><div class=\"sk-estimator sk-toggleable\"><input class=\"sk-toggleable__control sk-hidden--visually\" id=\"sk-estimator-id-15\" type=\"checkbox\" ><label for=\"sk-estimator-id-15\" class=\"sk-toggleable__label sk-toggleable__label-arrow\">XGBClassifier</label><div class=\"sk-toggleable__content\"><pre>XGBClassifier(base_score=None, booster=None, callbacks=None,\n",
       "              colsample_bylevel=None, colsample_bynode=None,\n",
       "              colsample_bytree=None, early_stopping_rounds=None,\n",
       "              enable_categorical=False, eval_metric=None, feature_types=None,\n",
       "              gamma=None, gpu_id=None, grow_policy=None, importance_type=None,\n",
       "              interaction_constraints=None, learning_rate=None, max_bin=None,\n",
       "              max_cat_threshold=None, max_cat_to_onehot=None,\n",
       "              max_delta_step=None, max_depth=None, max_leaves=None,\n",
       "              min_child_weight=None, missing=nan, monotone_constraints=None,\n",
       "              n_estimators=100, n_jobs=None, num_parallel_tree=None,\n",
       "              predictor=None, random_state=None, ...)</pre></div></div></div></div></div></div></div></div></div></div>"
      ],
      "text/plain": [
       "GridSearchCV(cv=5,\n",
       "             estimator=XGBClassifier(base_score=None, booster=None,\n",
       "                                     callbacks=None, colsample_bylevel=None,\n",
       "                                     colsample_bynode=None,\n",
       "                                     colsample_bytree=None,\n",
       "                                     early_stopping_rounds=None,\n",
       "                                     enable_categorical=False, eval_metric=None,\n",
       "                                     feature_types=None, gamma=None,\n",
       "                                     gpu_id=None, grow_policy=None,\n",
       "                                     importance_type=None,\n",
       "                                     interaction_constraints=None,\n",
       "                                     learning_rate=None,...\n",
       "                                     max_cat_to_onehot=None,\n",
       "                                     max_delta_step=None, max_depth=None,\n",
       "                                     max_leaves=None, min_child_weight=None,\n",
       "                                     missing=nan, monotone_constraints=None,\n",
       "                                     n_estimators=100, n_jobs=None,\n",
       "                                     num_parallel_tree=None, predictor=None,\n",
       "                                     random_state=None, ...),\n",
       "             param_grid={'learning_rate': [0.1, 0.01, 0.05],\n",
       "                         'max_depth': [3, 5, 10, 15],\n",
       "                         'n_estimators': [10, 50, 100, 200]},\n",
       "             scoring='accuracy', verbose=1)"
      ]
     },
     "execution_count": 27,
     "metadata": {},
     "output_type": "execute_result"
    }
   ],
   "source": [
    "# Fit the pipeline with the training data\n",
    "\n",
    "grid_xgb.fit(X_train, y_train)"
   ]
  },
  {
   "cell_type": "code",
   "execution_count": null,
   "id": "yHm1wyURr-CZ",
   "metadata": {
    "id": "yHm1wyURr-CZ"
   },
   "outputs": [],
   "source": [
    "# Fit the pipeline with the training data\n",
    "\n",
    "# grid_svc.fit(X_train, y_train)"
   ]
  },
  {
   "cell_type": "code",
   "execution_count": null,
   "id": "SEmao74Ar-CZ",
   "metadata": {
    "colab": {
     "base_uri": "https://localhost:8080/"
    },
    "id": "SEmao74Ar-CZ",
    "outputId": "c8996e7b-6f67-4597-e149-266aab888baf"
   },
   "outputs": [
    {
     "name": "stdout",
     "output_type": "stream",
     "text": [
      "Best parameters for XGBoost:  {'learning_rate': 0.1, 'max_depth': 3, 'n_estimators': 200}\n",
      "Best score for XGBoost:  0.8318102210501687\n",
      "Best parameters for KNN:  {'n_neighbors': 7, 'p': 2, 'weights': 'uniform'}\n",
      "Best score for KNN:  0.7840645788685736\n",
      "Best parameters for decision tree:  {'max_depth': 5, 'min_samples_leaf': 1, 'min_samples_split': 2}\n",
      "Best score for decision tree:  0.8249972933876857\n"
     ]
    }
   ],
   "source": [
    "# Print the best parameters and best score for each classifier\n",
    "# print(\"Best parameters for SVM: \", grid_svc.best_params_)\n",
    "# print(\"Best score for SVM: \", grid_svc.best_score_)\n",
    "\n",
    "# print(\"Best parameters for Random Forest: \", grid_rf.best_params_)\n",
    "# print(\"Best score for Random Forest: \", grid_rf.best_score_)\n",
    "\n",
    "print(\"Best parameters for XGBoost: \", grid_xgb.best_params_)\n",
    "print(\"Best score for XGBoost: \", grid_xgb.best_score_)\n",
    "\n",
    "print(\"Best parameters for KNN: \", grid_knn.best_params_)\n",
    "print(\"Best score for KNN: \", grid_knn.best_score_)\n",
    "\n",
    "print(\"Best parameters for decision tree: \", grid_dt.best_params_)\n",
    "print(\"Best score for decision tree: \", grid_dt.best_score_)"
   ]
  },
  {
   "cell_type": "markdown",
   "id": "abS08IZYr-CZ",
   "metadata": {
    "id": "abS08IZYr-CZ"
   },
   "source": [
    "## 1-1  K-NN "
   ]
  },
  {
   "cell_type": "code",
   "execution_count": null,
   "id": "5Wl0_lMqr-CZ",
   "metadata": {
    "colab": {
     "base_uri": "https://localhost:8080/",
     "height": 1000
    },
    "id": "5Wl0_lMqr-CZ",
    "outputId": "502e35ed-4f46-4d26-9a5c-ce4cfaeb305f"
   },
   "outputs": [
    {
     "name": "stdout",
     "output_type": "stream",
     "text": [
      "Accuracy of KNN classifier on training set: 0.81\n",
      "Accuracy of KNN classifier on test set: 0.79\n",
      "\n",
      "Classification Report of Classifier:\n",
      "\n",
      "              precision    recall  f1-score   support\n",
      "\n",
      "           0       0.93      1.00      0.96      3236\n",
      "           1       0.00      0.00      0.00       151\n",
      "           2       0.72      0.88      0.79      3927\n",
      "           3       0.58      0.42      0.49      1042\n",
      "           4       0.14      0.01      0.02       672\n",
      "\n",
      "    accuracy                           0.79      9028\n",
      "   macro avg       0.48      0.46      0.45      9028\n",
      "weighted avg       0.73      0.79      0.75      9028\n",
      "\n"
     ]
    },
    {
     "data": {
      "text/plain": [
       "Text(0.5, 1.0, 'Confusion Matrix')"
      ]
     },
     "execution_count": 30,
     "metadata": {},
     "output_type": "execute_result"
    },
    {
     "data": {
      "image/png": "[encoded data removed]",
      "text/plain": [
       "<Figure size 1600x900 with 2 Axes>"
      ]
     },
     "metadata": {},
     "output_type": "display_data"
    }
   ],
   "source": [
    "model_knn = grid_knn.best_estimator_\n",
    "knn_pred = model_knn.predict(X_test)\n",
    "print(\n",
    "    \"Accuracy of KNN classifier on training set: {:.2f}\".format(\n",
    "        model_knn.score(X_train, y_train)\n",
    "    )\n",
    ")\n",
    "print(\n",
    "    \"Accuracy of KNN classifier on test set: {:.2f}\".format(\n",
    "        model_knn.score(X_test, y_test)\n",
    "    )\n",
    ")\n",
    "print(\"\\nClassification Report of Classifier:\\n\")\n",
    "print(classification_report(y_test, knn_pred))\n",
    "\n",
    "knn_matrix = confusion_matrix(knn_pred, y_test, normalize=\"pred\")\n",
    "plt.figure(figsize=(16, 9))\n",
    "ax = plt.subplot()\n",
    "sns.heatmap(knn_matrix, annot=True, ax=ax)\n",
    "\n",
    "# labels, title and ticks\n",
    "ax.set_xlabel(\"Predicted Labels\", size=20)\n",
    "ax.set_ylabel(\"True Labels\", size=20)\n",
    "ax.set_title(\"Confusion Matrix\", size=20)"
   ]
  },
  {
   "cell_type": "markdown",
   "id": "V-KVy8hbr-Ca",
   "metadata": {
    "id": "V-KVy8hbr-Ca"
   },
   "source": [
    "## 1-2 Decision tree\n",
    "- We will build a decision tree model that will predict the outcome of the customer choice (wether to subscribe or not ..).\n",
    "- We will use the model to figure out what features are the most important for determining the outcome. \n",
    "- Decision tree model was chosen because we can interpret the result and see exactly how the model makes the predictions. \n",
    "- The interpretability of the model process of \"thought\" is one of its most powerfull featuers and we will make sure to use that."
   ]
  },
  {
   "cell_type": "code",
   "execution_count": null,
   "id": "11VIHfAwr-Ca",
   "metadata": {
    "id": "11VIHfAwr-Ca"
   },
   "outputs": [],
   "source": [
    "import graphviz\n",
    "from sklearn.tree import export_graphviz\n",
    "\n",
    "\n",
    "def plot_decision_tree(clf, feature_names, class_names):\n",
    "    # This function requires the pydotplus module and assumes it's been installed.\n",
    "    # In some cases (typically under Windows) even after running conda install, there is a problem where the\n",
    "    # pydotplus module is not found when running from within the notebook environment.  The following code\n",
    "    # may help to guarantee the module is installed in the current notebook environment directory.\n",
    "    #\n",
    "    # import sys; sys.executable\n",
    "    # !{sys.executable} -m pip install pydotplus\n",
    "\n",
    "    export_graphviz(\n",
    "        clf,\n",
    "        out_file=\"tree.dot\",\n",
    "        feature_names=feature_names,\n",
    "        class_names=class_names,\n",
    "        filled=True,\n",
    "        impurity=False,\n",
    "    )\n",
    "    with open(\"tree.dot\") as f:\n",
    "        dot_graph = f.read()\n",
    "    # Alternate method using pydotplus, if installed.\n",
    "    # graph = pydotplus.graphviz.graph_from_dot_data(dot_graph)\n",
    "    # return graph.create_png()\n",
    "    return graphviz.Source(dot_graph)\n",
    "\n",
    "\n",
    "def plot_feature_importances(clf, feature_names):\n",
    "    c_features = len(feature_names)\n",
    "    plt.barh(range(c_features), clf.feature_importances_)\n",
    "    plt.xlabel(\"Feature importance\")\n",
    "    plt.ylabel(\"Feature name\")\n",
    "    plt.yticks(np.arange(c_features), feature_names)"
   ]
  },
  {
   "cell_type": "code",
   "execution_count": null,
   "id": "RwyrHvbWr-Cb",
   "metadata": {
    "colab": {
     "base_uri": "https://localhost:8080/",
     "height": 1000
    },
    "id": "RwyrHvbWr-Cb",
    "outputId": "e0f5ad3c-7bc7-4623-9563-eccb0fa95d25"
   },
   "outputs": [
    {
     "name": "stdout",
     "output_type": "stream",
     "text": [
      "Accuracy of Decision Tree classifier on training set: 0.83\n",
      "Accuracy of Decision Tree classifier on test set: 0.83\n",
      "\n",
      "Classification Report of Classifier:\n",
      "\n",
      "              precision    recall  f1-score   support\n",
      "\n",
      "           0       1.00      1.00      1.00      3236\n",
      "           1       0.00      0.00      0.00       151\n",
      "           2       0.73      0.96      0.83      3927\n",
      "           3       0.70      0.45      0.55      1042\n",
      "           4       0.00      0.00      0.00       672\n",
      "\n",
      "    accuracy                           0.83      9028\n",
      "   macro avg       0.49      0.48      0.48      9028\n",
      "weighted avg       0.76      0.83      0.78      9028\n",
      "\n"
     ]
    },
    {
     "name": "stderr",
     "output_type": "stream",
     "text": [
      "/usr/local/lib/python3.10/dist-packages/sklearn/metrics/_classification.py:1344: UndefinedMetricWarning: Precision and F-score are ill-defined and being set to 0.0 in labels with no predicted samples. Use `zero_division` parameter to control this behavior.\n",
      "  _warn_prf(average, modifier, msg_start, len(result))\n",
      "/usr/local/lib/python3.10/dist-packages/sklearn/metrics/_classification.py:1344: UndefinedMetricWarning: Precision and F-score are ill-defined and being set to 0.0 in labels with no predicted samples. Use `zero_division` parameter to control this behavior.\n",
      "  _warn_prf(average, modifier, msg_start, len(result))\n",
      "/usr/local/lib/python3.10/dist-packages/sklearn/metrics/_classification.py:1344: UndefinedMetricWarning: Precision and F-score are ill-defined and being set to 0.0 in labels with no predicted samples. Use `zero_division` parameter to control this behavior.\n",
      "  _warn_prf(average, modifier, msg_start, len(result))\n"
     ]
    },
    {
     "data": {
      "text/plain": [
       "Text(0.5, 1.0, 'Confusion Matrix')"
      ]
     },
     "execution_count": 32,
     "metadata": {},
     "output_type": "execute_result"
    },
    {
     "data": {
      "image/png": "[encoded data removed]",
      "text/plain": [
       "<Figure size 1600x900 with 2 Axes>"
      ]
     },
     "metadata": {},
     "output_type": "display_data"
    }
   ],
   "source": [
    "tree = grid_dt.best_estimator_\n",
    "tree_pred=tree.predict(X_test)\n",
    "print('Accuracy of Decision Tree classifier on training set: {:.2f}'\n",
    "     .format(tree.score(X_train, y_train)))\n",
    "print('Accuracy of Decision Tree classifier on test set: {:.2f}'\n",
    "     .format(tree.score(X_test, y_test)))\n",
    "print(\"\\nClassification Report of Classifier:\\n\")\n",
    "print(classification_report(y_test, tree_pred))\n",
    "tree_matrix = confusion_matrix(tree_pred, y_test, normalize='all')\n",
    "plt.figure(figsize=(16, 9))\n",
    "ax= plt.subplot()\n",
    "sns.heatmap(tree_matrix, annot=True, ax = ax)\n",
    "\n",
    "# labels, title and ticks\n",
    "ax.set_xlabel('Predicted Labels', size=20)\n",
    "ax.set_ylabel('True Labels', size=20)\n",
    "ax.set_title('Confusion Matrix', size=20) "
   ]
  },
  {
   "cell_type": "code",
   "execution_count": null,
   "id": "SrUziBKOr-Cb",
   "metadata": {
    "colab": {
     "base_uri": "https://localhost:8080/",
     "height": 449
    },
    "id": "SrUziBKOr-Cb",
    "outputId": "61c4f7d8-73ab-481c-f0ce-cad4a69a2597"
   },
   "outputs": [
    {
     "data": {
      "image/png": "[encoded data removed]",
      "text/plain": [
       "<Figure size 640x480 with 1 Axes>"
      ]
     },
     "metadata": {},
     "output_type": "display_data"
    }
   ],
   "source": [
    "plot_feature_importances(tree, X.columns)"
   ]
  },
  {
   "cell_type": "markdown",
   "id": "Q2kD46mir-Cb",
   "metadata": {
    "id": "Q2kD46mir-Cb"
   },
   "source": [
    "## 1-3 Random forest "
   ]
  },
  {
   "cell_type": "code",
   "execution_count": null,
   "id": "0Ci0hpTOr-Cb",
   "metadata": {
    "id": "0Ci0hpTOr-Cb"
   },
   "outputs": [],
   "source": [
    "# model_rf = grid_rf.best_estimator_\n",
    "# rf_pred = model_rf.predict(X_test)\n",
    "# print(\n",
    "#     \"Accuracy of Random Forest on training set: {:.2f}\".format(\n",
    "#         model_rf.score(X_train, y_train)\n",
    "#     )\n",
    "# )\n",
    "# print(\n",
    "#     \"Accuracy of Random Forest classifier on test set: {:.2f}\".format(\n",
    "#         model_rf.score(X_test, y_test)\n",
    "#     )\n",
    "# )\n",
    "# print(\"\\nClassification Report of Classifier:\\n\")\n",
    "# print(classification_report(y_test, rf_pred))\n",
    "\n",
    "# rf_matrix = confusion_matrix(rf_pred, y_test, normalize=\"pred\")\n",
    "# plt.figure(figsize=(16, 9))\n",
    "# ax = plt.subplot()\n",
    "# sns.heatmap(rf_matrix, annot=True, ax=ax)\n",
    "\n",
    "# # labels, title and ticks\n",
    "# ax.set_xlabel(\"Predicted Labels\", size=20)\n",
    "# ax.set_ylabel(\"True Labels\", size=20)\n",
    "# ax.set_title(\"Confusion Matrix\", size=20)\n"
   ]
  },
  {
   "cell_type": "markdown",
   "id": "iCvbU1k9r-Cb",
   "metadata": {
    "id": "iCvbU1k9r-Cb"
   },
   "source": [
    "## 1-4 XGBoost"
   ]
  },
  {
   "cell_type": "code",
   "execution_count": null,
   "id": "20vtSGDQr-Cb",
   "metadata": {
    "colab": {
     "base_uri": "https://localhost:8080/",
     "height": 1000
    },
    "id": "20vtSGDQr-Cb",
    "outputId": "d5a27ba4-96a9-4a89-fd8a-17498984d3a0"
   },
   "outputs": [
    {
     "name": "stdout",
     "output_type": "stream",
     "text": [
      "Accuracy of XGB classifier on training set: 0.81\n",
      "Accuracy of XGB classifier on test set: 0.79\n",
      "\n",
      "Classification Report of Classifier:\n",
      "\n",
      "              precision    recall  f1-score   support\n",
      "\n",
      "           0       1.00      1.00      1.00      3236\n",
      "           1       0.00      0.00      0.00       151\n",
      "           2       0.75      0.94      0.84      3927\n",
      "           3       0.68      0.57      0.62      1042\n",
      "           4       0.00      0.00      0.00       672\n",
      "\n",
      "    accuracy                           0.83      9028\n",
      "   macro avg       0.49      0.50      0.49      9028\n",
      "weighted avg       0.76      0.83      0.79      9028\n",
      "\n"
     ]
    },
    {
     "name": "stderr",
     "output_type": "stream",
     "text": [
      "/usr/local/lib/python3.10/dist-packages/sklearn/metrics/_classification.py:1344: UndefinedMetricWarning: Precision and F-score are ill-defined and being set to 0.0 in labels with no predicted samples. Use `zero_division` parameter to control this behavior.\n",
      "  _warn_prf(average, modifier, msg_start, len(result))\n",
      "/usr/local/lib/python3.10/dist-packages/sklearn/metrics/_classification.py:1344: UndefinedMetricWarning: Precision and F-score are ill-defined and being set to 0.0 in labels with no predicted samples. Use `zero_division` parameter to control this behavior.\n",
      "  _warn_prf(average, modifier, msg_start, len(result))\n",
      "/usr/local/lib/python3.10/dist-packages/sklearn/metrics/_classification.py:1344: UndefinedMetricWarning: Precision and F-score are ill-defined and being set to 0.0 in labels with no predicted samples. Use `zero_division` parameter to control this behavior.\n",
      "  _warn_prf(average, modifier, msg_start, len(result))\n"
     ]
    },
    {
     "data": {
      "text/plain": [
       "Text(0.5, 1.0, 'Confusion Matrix')"
      ]
     },
     "execution_count": 35,
     "metadata": {},
     "output_type": "execute_result"
    },
    {
     "data": {
      "image/png": "[encoded data removed]",
      "text/plain": [
       "<Figure size 1600x900 with 2 Axes>"
      ]
     },
     "metadata": {},
     "output_type": "display_data"
    }
   ],
   "source": [
    "model_xgb = grid_xgb.best_estimator_\n",
    "xgb_pred = model_xgb.predict(X_test)\n",
    "print(\n",
    "    \"Accuracy of XGB classifier on training set: {:.2f}\".format(\n",
    "        model_knn.score(X_train, y_train)\n",
    "    )\n",
    ")\n",
    "print(\n",
    "    \"Accuracy of XGB classifier on test set: {:.2f}\".format(\n",
    "        model_knn.score(X_test, y_test)\n",
    "    )\n",
    ")\n",
    "print(\"\\nClassification Report of Classifier:\\n\")\n",
    "print(classification_report(y_test, xgb_pred))\n",
    "\n",
    "xgb_matrix = confusion_matrix(xgb_pred, y_test, normalize=\"pred\")\n",
    "plt.figure(figsize=(16, 9))\n",
    "ax = plt.subplot()\n",
    "sns.heatmap(xgb_matrix, annot=True, ax=ax)\n",
    "\n",
    "# labels, title and ticks\n",
    "ax.set_xlabel(\"Predicted Labels\", size=20)\n",
    "ax.set_ylabel(\"True Labels\", size=20)\n",
    "ax.set_title(\"Confusion Matrix\", size=20)"
   ]
  },
  {
   "cell_type": "markdown",
   "id": "WXOHd-igr-Cc",
   "metadata": {
    "id": "WXOHd-igr-Cc"
   },
   "source": [
    "## 1-5 Support Vector Machine "
   ]
  },
  {
   "cell_type": "code",
   "execution_count": null,
   "id": "J9khiWFur-Cc",
   "metadata": {
    "id": "J9khiWFur-Cc"
   },
   "outputs": [],
   "source": [
    "# model_svc = grid_svc.best_estimator_\n",
    "# svc_pred = model_svc.predict(X_test)\n",
    "# print(\n",
    "#     \"Accuracy of SVM classifier on training set: {:.2f}\".format(\n",
    "#         model_svc.score(X_train, y_train)\n",
    "#     )\n",
    "# )\n",
    "# print(\n",
    "#     \"Accuracy of SVM classifier on test set: {:.2f}\".format(\n",
    "#         model_svc.score(X_test, y_test)\n",
    "#     )\n",
    "# )\n",
    "# print(\"\\nClassification Report of Classifier:\\n\")\n",
    "# print(classification_report(y_test, svc_pred))\n",
    "\n",
    "# svc_matrix = confusion_matrix(svc_pred, y_test, normalize=\"pred\")\n",
    "# plt.figure(figsize=(16, 9))\n",
    "# ax = plt.subplot()\n",
    "# sns.heatmap(svc_matrix, annot=True, ax=ax)\n",
    "\n",
    "# # labels, title and ticks\n",
    "# ax.set_xlabel(\"Predicted Labels\", size=20)\n",
    "# ax.set_ylabel(\"True Labels\", size=20)\n",
    "# ax.set_title(\"Confusion Matrix\", size=20)"
   ]
  },
  {
   "cell_type": "markdown",
   "id": "M2Gsuklzr-Cc",
   "metadata": {
    "id": "M2Gsuklzr-Cc"
   },
   "source": [
    "# 2-Results discussion "
   ]
  },
  {
   "cell_type": "code",
   "execution_count": null,
   "id": "Nrn1QDJKr-Cc",
   "metadata": {
    "id": "Nrn1QDJKr-Cc"
   },
   "outputs": [],
   "source": []
  }
 ],
 "metadata": {
  "accelerator": "GPU",
  "colab": {
   "gpuType": "T4",
   "provenance": []
  },
  "kernelspec": {
   "display_name": "Python 3 (ipykernel)",
   "language": "python",
   "name": "python3"
  },
  "language_info": {
   "codemirror_mode": {
    "name": "ipython",
    "version": 3
   },
   "file_extension": ".py",
   "mimetype": "text/x-python",
   "name": "python",
   "nbconvert_exporter": "python",
   "pygments_lexer": "ipython3",
   "version": "3.9.13"
  }
 },
 "nbformat": 4,
 "nbformat_minor": 5
}
