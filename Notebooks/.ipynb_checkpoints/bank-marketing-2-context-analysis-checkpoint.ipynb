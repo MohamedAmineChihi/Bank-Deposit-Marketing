{
 "cells": [
  {
   "cell_type": "markdown",
   "id": "37c0d619",
   "metadata": {},
   "source": [
    "<center><h1> - Bank marketing : Context Analysis- </h1></center>"
   ]
  },
  {
   "cell_type": "markdown",
   "id": "24302ee5",
   "metadata": {},
   "source": [
    "# 1-Client Behaviour\n",
    "* The aim of this study is to determine what factors could influence customers' decision to either maintain their \"term deposit\" product or cancel it.\n",
    "* We will be looking at our dataset in order to get more insights. \n",
    "* First we will take a peek at how does our data look then we will analyze each category of customers independetly (the categories are represented by the statut column)."
   ]
  },
  {
   "cell_type": "markdown",
   "id": "f0aa258b",
   "metadata": {},
   "source": [
    "### Libraries"
   ]
  },
  {
   "cell_type": "code",
   "execution_count": null,
   "id": "0bee3777",
   "metadata": {},
   "outputs": [],
   "source": [
    "path = \"../data/raw/data.csv\"\n",
    "marketing_df = pd.read_csv( path ,  encoding='ANSI',sep=';',index_col=0)\n",
    "display(marketing_df)"
   ]
  },
  {
   "cell_type": "markdown",
   "id": "2b5721df",
   "metadata": {},
   "source": [
    "# 2-Bank Behaviour"
   ]
  },
  {
   "cell_type": "code",
   "execution_count": null,
   "id": "b1697398",
   "metadata": {},
   "outputs": [],
   "source": []
  }
 ],
 "metadata": {
  "kernelspec": {
   "display_name": "Python 3 (ipykernel)",
   "language": "python",
   "name": "python3"
  },
  "language_info": {
   "codemirror_mode": {
    "name": "ipython",
    "version": 3
   },
   "file_extension": ".py",
   "mimetype": "text/x-python",
   "name": "python",
   "nbconvert_exporter": "python",
   "pygments_lexer": "ipython3",
   "version": "3.9.13"
  }
 },
 "nbformat": 4,
 "nbformat_minor": 5
}
